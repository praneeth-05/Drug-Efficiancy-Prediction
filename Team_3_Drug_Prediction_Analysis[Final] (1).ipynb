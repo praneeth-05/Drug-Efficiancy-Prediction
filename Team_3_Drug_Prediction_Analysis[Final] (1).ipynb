{
  "cells": [
    {
      "cell_type": "markdown",
      "metadata": {
        "id": "nj5qdHVzlnCy"
      },
      "source": [
        "#IMPORTING LIBRARIES"
      ]
    },
    {
      "cell_type": "code",
      "execution_count": null,
      "metadata": {
        "colab": {
          "base_uri": "https://localhost:8080/"
        },
        "id": "TP_tUQhVkD0x",
        "outputId": "968c2152-180d-422c-a71c-f7c5831fa0c6"
      },
      "outputs": [
        {
          "output_type": "stream",
          "name": "stderr",
          "text": [
            "/usr/local/lib/python3.8/dist-packages/torch/cuda/__init__.py:497: UserWarning: Can't initialize NVML\n",
            "  warnings.warn(\"Can't initialize NVML\")\n"
          ]
        },
        {
          "output_type": "stream",
          "name": "stdout",
          "text": [
            "\n",
            "\n"
          ]
        },
        {
          "output_type": "stream",
          "name": "stderr",
          "text": [
            "[nltk_data] Downloading package stopwords to /root/nltk_data...\n",
            "[nltk_data]   Unzipping corpora/stopwords.zip.\n"
          ]
        }
      ],
      "source": [
        "\n",
        "from sklearn.metrics.pairwise import cosine_similarity\n",
        "import spacy\n",
        "import pandas as pd\n",
        "import numpy as np\n",
        "import re,string\n",
        "import nltk\n",
        "\n",
        "from nltk.corpus import stopwords\n",
        "from sklearn.feature_extraction.text import CountVectorizer\n",
        "from sklearn.feature_extraction.text import TfidfVectorizer\n",
        "from sklearn.preprocessing import LabelBinarizer\n",
        "from nltk.corpus import stopwords\n",
        "from nltk.stem.porter import PorterStemmer\n",
        "from wordcloud import WordCloud,STOPWORDS\n",
        "from nltk.stem import WordNetLemmatizer\n",
        "from nltk.tokenize import word_tokenize,sent_tokenize\n",
        "from bs4 import BeautifulSoup\n",
        "import spacy\n",
        "import re,string,unicodedata\n",
        "from nltk.tokenize.toktok import ToktokTokenizer\n",
        "from nltk.stem import LancasterStemmer,WordNetLemmatizer\n",
        "from sklearn.metrics.pairwise import cosine_similarity\n",
        "from sklearn.model_selection import train_test_split\n",
        "from sklearn.linear_model import LinearRegression\n",
        "from sklearn.metrics import mean_squared_error\n",
        "import gensim.downloader as api\n",
        "import nltk\n",
        "nltk.download('stopwords')\n",
        "\n",
        "print(\"\\n\")"
      ]
    },
    {
      "cell_type": "code",
      "source": [
        "import torch\n",
        "import torchvision\n",
        "import numpy as np\n",
        "import pandas as pd\n",
        "import tensorflow as tf \n",
        "import matplotlib.pyplot as plt\n",
        "import seaborn as sns\n",
        "import statsmodels.formula.api as smf\n",
        "sns.set(color_codes=True)\n",
        "from sklearn.linear_model import LinearRegression\n",
        "from sklearn import metrics\n",
        "from sklearn.model_selection import train_test_split\n",
        "from sklearn.metrics import accuracy_score\n",
        "import re,string\n",
        "%matplotlib inline\n",
        "import nltk\n",
        "nltk.download('punkt')\n",
        "nltk.download('stopwords')\n",
        "nltk.download('wordnet')\n",
        "nltk.download('omw-1.4')\n",
        "from nltk.tokenize import word_tokenize\n",
        "from nltk.tokenize import sent_tokenize\n",
        "from nltk.stem import WordNetLemmatizer \n",
        "from nltk.corpus import stopwords\n",
        "stopwords.words('english')\n",
        "import string\n",
        "string.punctuation\n",
        "from nltk.stem.porter import PorterStemmer\n",
        "\n",
        "from tensorflow.keras.preprocessing.text import Tokenizer\n",
        "from tensorflow.keras.preprocessing.sequence import pad_sequences\n",
        "from tensorflow.keras.callbacks import Callback, ReduceLROnPlateau, EarlyStopping"
      ],
      "metadata": {
        "colab": {
          "base_uri": "https://localhost:8080/"
        },
        "id": "zY-apAktfyxf",
        "outputId": "b702991e-056f-4030-db7a-a141f02a4ddc"
      },
      "execution_count": null,
      "outputs": [
        {
          "output_type": "stream",
          "name": "stderr",
          "text": [
            "[nltk_data] Downloading package punkt to /root/nltk_data...\n",
            "[nltk_data]   Unzipping tokenizers/punkt.zip.\n",
            "[nltk_data] Downloading package stopwords to /root/nltk_data...\n",
            "[nltk_data]   Package stopwords is already up-to-date!\n",
            "[nltk_data] Downloading package wordnet to /root/nltk_data...\n",
            "[nltk_data] Downloading package omw-1.4 to /root/nltk_data...\n"
          ]
        }
      ]
    },
    {
      "cell_type": "markdown",
      "metadata": {
        "id": "gGuQyfujlti7"
      },
      "source": [
        "#LOADING THE DATASET"
      ]
    },
    {
      "cell_type": "code",
      "execution_count": null,
      "metadata": {
        "id": "0cW4C2Qpfd9i"
      },
      "outputs": [],
      "source": [
        "# df=pd.read_excel('/content/nlp.xlsx')\n",
        "df = pd.read_csv(\"/content/train.csv\")"
      ]
    },
    {
      "cell_type": "code",
      "execution_count": null,
      "metadata": {
        "colab": {
          "base_uri": "https://localhost:8080/",
          "height": 423
        },
        "id": "mVEMKycwhBpW",
        "outputId": "f808c3c3-01a2-4830-df4c-1bfd8529fd33"
      },
      "outputs": [
        {
          "output_type": "execute_result",
          "data": {
            "text/plain": [
              "                   name_of_drug  \\\n",
              "0                     Valsartan   \n",
              "1                    Guanfacine   \n",
              "2                        Lybrel   \n",
              "3      Buprenorphine / naloxone   \n",
              "4                        Cialis   \n",
              "...                         ...   \n",
              "32160                  Cymbalta   \n",
              "32161                 Nexplanon   \n",
              "32162               Venlafaxine   \n",
              "32163                Fluoxetine   \n",
              "32164                   Orencia   \n",
              "\n",
              "                                       review_by_patient  \\\n",
              "0      \"It has no side effect, I take it in combinati...   \n",
              "1      \"My son is halfway through his fourth week of ...   \n",
              "2      \"I used to take another oral contraceptive, wh...   \n",
              "3      \"Suboxone has completely turned my life around...   \n",
              "4      \"2nd day on 5mg started to work with rock hard...   \n",
              "...                                                  ...   \n",
              "32160  \"I have been taking Cymbalta for 15 months now...   \n",
              "32161  \"I have had the Nexplanon since Dec. 27, 2016 ...   \n",
              "32162  \"Had panic attacks and social anxiety starting...   \n",
              "32163  \"I have been off Prozac for about 4 weeks now....   \n",
              "32164  \"Limited improvement after 4 months, developed...   \n",
              "\n",
              "       number_of_times_prescribed  base_score  \n",
              "0                              27    8.022969  \n",
              "1                             192    7.858458  \n",
              "2                              17    6.341969  \n",
              "3                              37    6.590176  \n",
              "4                              43    6.144782  \n",
              "...                           ...         ...  \n",
              "32160                          89    6.963020  \n",
              "32161                           0    0.899076  \n",
              "32162                          25    6.241812  \n",
              "32163                          22    7.940428  \n",
              "32164                          35    8.205393  \n",
              "\n",
              "[32165 rows x 4 columns]"
            ],
            "text/html": [
              "\n",
              "  <div id=\"df-77deadfd-3518-4409-9546-940ac602ac60\">\n",
              "    <div class=\"colab-df-container\">\n",
              "      <div>\n",
              "<style scoped>\n",
              "    .dataframe tbody tr th:only-of-type {\n",
              "        vertical-align: middle;\n",
              "    }\n",
              "\n",
              "    .dataframe tbody tr th {\n",
              "        vertical-align: top;\n",
              "    }\n",
              "\n",
              "    .dataframe thead th {\n",
              "        text-align: right;\n",
              "    }\n",
              "</style>\n",
              "<table border=\"1\" class=\"dataframe\">\n",
              "  <thead>\n",
              "    <tr style=\"text-align: right;\">\n",
              "      <th></th>\n",
              "      <th>name_of_drug</th>\n",
              "      <th>review_by_patient</th>\n",
              "      <th>number_of_times_prescribed</th>\n",
              "      <th>base_score</th>\n",
              "    </tr>\n",
              "  </thead>\n",
              "  <tbody>\n",
              "    <tr>\n",
              "      <th>0</th>\n",
              "      <td>Valsartan</td>\n",
              "      <td>\"It has no side effect, I take it in combinati...</td>\n",
              "      <td>27</td>\n",
              "      <td>8.022969</td>\n",
              "    </tr>\n",
              "    <tr>\n",
              "      <th>1</th>\n",
              "      <td>Guanfacine</td>\n",
              "      <td>\"My son is halfway through his fourth week of ...</td>\n",
              "      <td>192</td>\n",
              "      <td>7.858458</td>\n",
              "    </tr>\n",
              "    <tr>\n",
              "      <th>2</th>\n",
              "      <td>Lybrel</td>\n",
              "      <td>\"I used to take another oral contraceptive, wh...</td>\n",
              "      <td>17</td>\n",
              "      <td>6.341969</td>\n",
              "    </tr>\n",
              "    <tr>\n",
              "      <th>3</th>\n",
              "      <td>Buprenorphine / naloxone</td>\n",
              "      <td>\"Suboxone has completely turned my life around...</td>\n",
              "      <td>37</td>\n",
              "      <td>6.590176</td>\n",
              "    </tr>\n",
              "    <tr>\n",
              "      <th>4</th>\n",
              "      <td>Cialis</td>\n",
              "      <td>\"2nd day on 5mg started to work with rock hard...</td>\n",
              "      <td>43</td>\n",
              "      <td>6.144782</td>\n",
              "    </tr>\n",
              "    <tr>\n",
              "      <th>...</th>\n",
              "      <td>...</td>\n",
              "      <td>...</td>\n",
              "      <td>...</td>\n",
              "      <td>...</td>\n",
              "    </tr>\n",
              "    <tr>\n",
              "      <th>32160</th>\n",
              "      <td>Cymbalta</td>\n",
              "      <td>\"I have been taking Cymbalta for 15 months now...</td>\n",
              "      <td>89</td>\n",
              "      <td>6.963020</td>\n",
              "    </tr>\n",
              "    <tr>\n",
              "      <th>32161</th>\n",
              "      <td>Nexplanon</td>\n",
              "      <td>\"I have had the Nexplanon since Dec. 27, 2016 ...</td>\n",
              "      <td>0</td>\n",
              "      <td>0.899076</td>\n",
              "    </tr>\n",
              "    <tr>\n",
              "      <th>32162</th>\n",
              "      <td>Venlafaxine</td>\n",
              "      <td>\"Had panic attacks and social anxiety starting...</td>\n",
              "      <td>25</td>\n",
              "      <td>6.241812</td>\n",
              "    </tr>\n",
              "    <tr>\n",
              "      <th>32163</th>\n",
              "      <td>Fluoxetine</td>\n",
              "      <td>\"I have been off Prozac for about 4 weeks now....</td>\n",
              "      <td>22</td>\n",
              "      <td>7.940428</td>\n",
              "    </tr>\n",
              "    <tr>\n",
              "      <th>32164</th>\n",
              "      <td>Orencia</td>\n",
              "      <td>\"Limited improvement after 4 months, developed...</td>\n",
              "      <td>35</td>\n",
              "      <td>8.205393</td>\n",
              "    </tr>\n",
              "  </tbody>\n",
              "</table>\n",
              "<p>32165 rows × 4 columns</p>\n",
              "</div>\n",
              "      <button class=\"colab-df-convert\" onclick=\"convertToInteractive('df-77deadfd-3518-4409-9546-940ac602ac60')\"\n",
              "              title=\"Convert this dataframe to an interactive table.\"\n",
              "              style=\"display:none;\">\n",
              "        \n",
              "  <svg xmlns=\"http://www.w3.org/2000/svg\" height=\"24px\"viewBox=\"0 0 24 24\"\n",
              "       width=\"24px\">\n",
              "    <path d=\"M0 0h24v24H0V0z\" fill=\"none\"/>\n",
              "    <path d=\"M18.56 5.44l.94 2.06.94-2.06 2.06-.94-2.06-.94-.94-2.06-.94 2.06-2.06.94zm-11 1L8.5 8.5l.94-2.06 2.06-.94-2.06-.94L8.5 2.5l-.94 2.06-2.06.94zm10 10l.94 2.06.94-2.06 2.06-.94-2.06-.94-.94-2.06-.94 2.06-2.06.94z\"/><path d=\"M17.41 7.96l-1.37-1.37c-.4-.4-.92-.59-1.43-.59-.52 0-1.04.2-1.43.59L10.3 9.45l-7.72 7.72c-.78.78-.78 2.05 0 2.83L4 21.41c.39.39.9.59 1.41.59.51 0 1.02-.2 1.41-.59l7.78-7.78 2.81-2.81c.8-.78.8-2.07 0-2.86zM5.41 20L4 18.59l7.72-7.72 1.47 1.35L5.41 20z\"/>\n",
              "  </svg>\n",
              "      </button>\n",
              "      \n",
              "  <style>\n",
              "    .colab-df-container {\n",
              "      display:flex;\n",
              "      flex-wrap:wrap;\n",
              "      gap: 12px;\n",
              "    }\n",
              "\n",
              "    .colab-df-convert {\n",
              "      background-color: #E8F0FE;\n",
              "      border: none;\n",
              "      border-radius: 50%;\n",
              "      cursor: pointer;\n",
              "      display: none;\n",
              "      fill: #1967D2;\n",
              "      height: 32px;\n",
              "      padding: 0 0 0 0;\n",
              "      width: 32px;\n",
              "    }\n",
              "\n",
              "    .colab-df-convert:hover {\n",
              "      background-color: #E2EBFA;\n",
              "      box-shadow: 0px 1px 2px rgba(60, 64, 67, 0.3), 0px 1px 3px 1px rgba(60, 64, 67, 0.15);\n",
              "      fill: #174EA6;\n",
              "    }\n",
              "\n",
              "    [theme=dark] .colab-df-convert {\n",
              "      background-color: #3B4455;\n",
              "      fill: #D2E3FC;\n",
              "    }\n",
              "\n",
              "    [theme=dark] .colab-df-convert:hover {\n",
              "      background-color: #434B5C;\n",
              "      box-shadow: 0px 1px 3px 1px rgba(0, 0, 0, 0.15);\n",
              "      filter: drop-shadow(0px 1px 2px rgba(0, 0, 0, 0.3));\n",
              "      fill: #FFFFFF;\n",
              "    }\n",
              "  </style>\n",
              "\n",
              "      <script>\n",
              "        const buttonEl =\n",
              "          document.querySelector('#df-77deadfd-3518-4409-9546-940ac602ac60 button.colab-df-convert');\n",
              "        buttonEl.style.display =\n",
              "          google.colab.kernel.accessAllowed ? 'block' : 'none';\n",
              "\n",
              "        async function convertToInteractive(key) {\n",
              "          const element = document.querySelector('#df-77deadfd-3518-4409-9546-940ac602ac60');\n",
              "          const dataTable =\n",
              "            await google.colab.kernel.invokeFunction('convertToInteractive',\n",
              "                                                     [key], {});\n",
              "          if (!dataTable) return;\n",
              "\n",
              "          const docLinkHtml = 'Like what you see? Visit the ' +\n",
              "            '<a target=\"_blank\" href=https://colab.research.google.com/notebooks/data_table.ipynb>data table notebook</a>'\n",
              "            + ' to learn more about interactive tables.';\n",
              "          element.innerHTML = '';\n",
              "          dataTable['output_type'] = 'display_data';\n",
              "          await google.colab.output.renderOutput(dataTable, element);\n",
              "          const docLink = document.createElement('div');\n",
              "          docLink.innerHTML = docLinkHtml;\n",
              "          element.appendChild(docLink);\n",
              "        }\n",
              "      </script>\n",
              "    </div>\n",
              "  </div>\n",
              "  "
            ]
          },
          "metadata": {},
          "execution_count": 6
        }
      ],
      "source": [
        "df"
      ]
    },
    {
      "cell_type": "markdown",
      "metadata": {
        "id": "jfJdpQULm4Mk"
      },
      "source": [
        "##UNDERSTANDING THE DATA"
      ]
    },
    {
      "cell_type": "code",
      "execution_count": null,
      "metadata": {
        "colab": {
          "base_uri": "https://localhost:8080/",
          "height": 206
        },
        "id": "_y5cElBUhNmX",
        "outputId": "2b3b2df1-7665-46da-e1fe-1ece753b4bd1"
      },
      "outputs": [
        {
          "output_type": "execute_result",
          "data": {
            "text/plain": [
              "               name_of_drug  \\\n",
              "0                 Valsartan   \n",
              "1                Guanfacine   \n",
              "2                    Lybrel   \n",
              "3  Buprenorphine / naloxone   \n",
              "4                    Cialis   \n",
              "\n",
              "                                   review_by_patient  \\\n",
              "0  \"It has no side effect, I take it in combinati...   \n",
              "1  \"My son is halfway through his fourth week of ...   \n",
              "2  \"I used to take another oral contraceptive, wh...   \n",
              "3  \"Suboxone has completely turned my life around...   \n",
              "4  \"2nd day on 5mg started to work with rock hard...   \n",
              "\n",
              "   number_of_times_prescribed  base_score  \n",
              "0                          27    8.022969  \n",
              "1                         192    7.858458  \n",
              "2                          17    6.341969  \n",
              "3                          37    6.590176  \n",
              "4                          43    6.144782  "
            ],
            "text/html": [
              "\n",
              "  <div id=\"df-8df62055-1f4f-4469-b3da-a6efd0732063\">\n",
              "    <div class=\"colab-df-container\">\n",
              "      <div>\n",
              "<style scoped>\n",
              "    .dataframe tbody tr th:only-of-type {\n",
              "        vertical-align: middle;\n",
              "    }\n",
              "\n",
              "    .dataframe tbody tr th {\n",
              "        vertical-align: top;\n",
              "    }\n",
              "\n",
              "    .dataframe thead th {\n",
              "        text-align: right;\n",
              "    }\n",
              "</style>\n",
              "<table border=\"1\" class=\"dataframe\">\n",
              "  <thead>\n",
              "    <tr style=\"text-align: right;\">\n",
              "      <th></th>\n",
              "      <th>name_of_drug</th>\n",
              "      <th>review_by_patient</th>\n",
              "      <th>number_of_times_prescribed</th>\n",
              "      <th>base_score</th>\n",
              "    </tr>\n",
              "  </thead>\n",
              "  <tbody>\n",
              "    <tr>\n",
              "      <th>0</th>\n",
              "      <td>Valsartan</td>\n",
              "      <td>\"It has no side effect, I take it in combinati...</td>\n",
              "      <td>27</td>\n",
              "      <td>8.022969</td>\n",
              "    </tr>\n",
              "    <tr>\n",
              "      <th>1</th>\n",
              "      <td>Guanfacine</td>\n",
              "      <td>\"My son is halfway through his fourth week of ...</td>\n",
              "      <td>192</td>\n",
              "      <td>7.858458</td>\n",
              "    </tr>\n",
              "    <tr>\n",
              "      <th>2</th>\n",
              "      <td>Lybrel</td>\n",
              "      <td>\"I used to take another oral contraceptive, wh...</td>\n",
              "      <td>17</td>\n",
              "      <td>6.341969</td>\n",
              "    </tr>\n",
              "    <tr>\n",
              "      <th>3</th>\n",
              "      <td>Buprenorphine / naloxone</td>\n",
              "      <td>\"Suboxone has completely turned my life around...</td>\n",
              "      <td>37</td>\n",
              "      <td>6.590176</td>\n",
              "    </tr>\n",
              "    <tr>\n",
              "      <th>4</th>\n",
              "      <td>Cialis</td>\n",
              "      <td>\"2nd day on 5mg started to work with rock hard...</td>\n",
              "      <td>43</td>\n",
              "      <td>6.144782</td>\n",
              "    </tr>\n",
              "  </tbody>\n",
              "</table>\n",
              "</div>\n",
              "      <button class=\"colab-df-convert\" onclick=\"convertToInteractive('df-8df62055-1f4f-4469-b3da-a6efd0732063')\"\n",
              "              title=\"Convert this dataframe to an interactive table.\"\n",
              "              style=\"display:none;\">\n",
              "        \n",
              "  <svg xmlns=\"http://www.w3.org/2000/svg\" height=\"24px\"viewBox=\"0 0 24 24\"\n",
              "       width=\"24px\">\n",
              "    <path d=\"M0 0h24v24H0V0z\" fill=\"none\"/>\n",
              "    <path d=\"M18.56 5.44l.94 2.06.94-2.06 2.06-.94-2.06-.94-.94-2.06-.94 2.06-2.06.94zm-11 1L8.5 8.5l.94-2.06 2.06-.94-2.06-.94L8.5 2.5l-.94 2.06-2.06.94zm10 10l.94 2.06.94-2.06 2.06-.94-2.06-.94-.94-2.06-.94 2.06-2.06.94z\"/><path d=\"M17.41 7.96l-1.37-1.37c-.4-.4-.92-.59-1.43-.59-.52 0-1.04.2-1.43.59L10.3 9.45l-7.72 7.72c-.78.78-.78 2.05 0 2.83L4 21.41c.39.39.9.59 1.41.59.51 0 1.02-.2 1.41-.59l7.78-7.78 2.81-2.81c.8-.78.8-2.07 0-2.86zM5.41 20L4 18.59l7.72-7.72 1.47 1.35L5.41 20z\"/>\n",
              "  </svg>\n",
              "      </button>\n",
              "      \n",
              "  <style>\n",
              "    .colab-df-container {\n",
              "      display:flex;\n",
              "      flex-wrap:wrap;\n",
              "      gap: 12px;\n",
              "    }\n",
              "\n",
              "    .colab-df-convert {\n",
              "      background-color: #E8F0FE;\n",
              "      border: none;\n",
              "      border-radius: 50%;\n",
              "      cursor: pointer;\n",
              "      display: none;\n",
              "      fill: #1967D2;\n",
              "      height: 32px;\n",
              "      padding: 0 0 0 0;\n",
              "      width: 32px;\n",
              "    }\n",
              "\n",
              "    .colab-df-convert:hover {\n",
              "      background-color: #E2EBFA;\n",
              "      box-shadow: 0px 1px 2px rgba(60, 64, 67, 0.3), 0px 1px 3px 1px rgba(60, 64, 67, 0.15);\n",
              "      fill: #174EA6;\n",
              "    }\n",
              "\n",
              "    [theme=dark] .colab-df-convert {\n",
              "      background-color: #3B4455;\n",
              "      fill: #D2E3FC;\n",
              "    }\n",
              "\n",
              "    [theme=dark] .colab-df-convert:hover {\n",
              "      background-color: #434B5C;\n",
              "      box-shadow: 0px 1px 3px 1px rgba(0, 0, 0, 0.15);\n",
              "      filter: drop-shadow(0px 1px 2px rgba(0, 0, 0, 0.3));\n",
              "      fill: #FFFFFF;\n",
              "    }\n",
              "  </style>\n",
              "\n",
              "      <script>\n",
              "        const buttonEl =\n",
              "          document.querySelector('#df-8df62055-1f4f-4469-b3da-a6efd0732063 button.colab-df-convert');\n",
              "        buttonEl.style.display =\n",
              "          google.colab.kernel.accessAllowed ? 'block' : 'none';\n",
              "\n",
              "        async function convertToInteractive(key) {\n",
              "          const element = document.querySelector('#df-8df62055-1f4f-4469-b3da-a6efd0732063');\n",
              "          const dataTable =\n",
              "            await google.colab.kernel.invokeFunction('convertToInteractive',\n",
              "                                                     [key], {});\n",
              "          if (!dataTable) return;\n",
              "\n",
              "          const docLinkHtml = 'Like what you see? Visit the ' +\n",
              "            '<a target=\"_blank\" href=https://colab.research.google.com/notebooks/data_table.ipynb>data table notebook</a>'\n",
              "            + ' to learn more about interactive tables.';\n",
              "          element.innerHTML = '';\n",
              "          dataTable['output_type'] = 'display_data';\n",
              "          await google.colab.output.renderOutput(dataTable, element);\n",
              "          const docLink = document.createElement('div');\n",
              "          docLink.innerHTML = docLinkHtml;\n",
              "          element.appendChild(docLink);\n",
              "        }\n",
              "      </script>\n",
              "    </div>\n",
              "  </div>\n",
              "  "
            ]
          },
          "metadata": {},
          "execution_count": 7
        }
      ],
      "source": [
        "df.head()"
      ]
    },
    {
      "cell_type": "code",
      "execution_count": null,
      "metadata": {
        "colab": {
          "base_uri": "https://localhost:8080/",
          "height": 206
        },
        "id": "TzYPY7-ghP3C",
        "outputId": "9a3b99be-6797-4489-a53f-18e7c9937ada"
      },
      "outputs": [
        {
          "output_type": "execute_result",
          "data": {
            "text/plain": [
              "      name_of_drug                                  review_by_patient  \\\n",
              "32160     Cymbalta  \"I have been taking Cymbalta for 15 months now...   \n",
              "32161    Nexplanon  \"I have had the Nexplanon since Dec. 27, 2016 ...   \n",
              "32162  Venlafaxine  \"Had panic attacks and social anxiety starting...   \n",
              "32163   Fluoxetine  \"I have been off Prozac for about 4 weeks now....   \n",
              "32164      Orencia  \"Limited improvement after 4 months, developed...   \n",
              "\n",
              "       number_of_times_prescribed  base_score  \n",
              "32160                          89    6.963020  \n",
              "32161                           0    0.899076  \n",
              "32162                          25    6.241812  \n",
              "32163                          22    7.940428  \n",
              "32164                          35    8.205393  "
            ],
            "text/html": [
              "\n",
              "  <div id=\"df-b6219e98-9a0c-4046-b665-740ea70b785d\">\n",
              "    <div class=\"colab-df-container\">\n",
              "      <div>\n",
              "<style scoped>\n",
              "    .dataframe tbody tr th:only-of-type {\n",
              "        vertical-align: middle;\n",
              "    }\n",
              "\n",
              "    .dataframe tbody tr th {\n",
              "        vertical-align: top;\n",
              "    }\n",
              "\n",
              "    .dataframe thead th {\n",
              "        text-align: right;\n",
              "    }\n",
              "</style>\n",
              "<table border=\"1\" class=\"dataframe\">\n",
              "  <thead>\n",
              "    <tr style=\"text-align: right;\">\n",
              "      <th></th>\n",
              "      <th>name_of_drug</th>\n",
              "      <th>review_by_patient</th>\n",
              "      <th>number_of_times_prescribed</th>\n",
              "      <th>base_score</th>\n",
              "    </tr>\n",
              "  </thead>\n",
              "  <tbody>\n",
              "    <tr>\n",
              "      <th>32160</th>\n",
              "      <td>Cymbalta</td>\n",
              "      <td>\"I have been taking Cymbalta for 15 months now...</td>\n",
              "      <td>89</td>\n",
              "      <td>6.963020</td>\n",
              "    </tr>\n",
              "    <tr>\n",
              "      <th>32161</th>\n",
              "      <td>Nexplanon</td>\n",
              "      <td>\"I have had the Nexplanon since Dec. 27, 2016 ...</td>\n",
              "      <td>0</td>\n",
              "      <td>0.899076</td>\n",
              "    </tr>\n",
              "    <tr>\n",
              "      <th>32162</th>\n",
              "      <td>Venlafaxine</td>\n",
              "      <td>\"Had panic attacks and social anxiety starting...</td>\n",
              "      <td>25</td>\n",
              "      <td>6.241812</td>\n",
              "    </tr>\n",
              "    <tr>\n",
              "      <th>32163</th>\n",
              "      <td>Fluoxetine</td>\n",
              "      <td>\"I have been off Prozac for about 4 weeks now....</td>\n",
              "      <td>22</td>\n",
              "      <td>7.940428</td>\n",
              "    </tr>\n",
              "    <tr>\n",
              "      <th>32164</th>\n",
              "      <td>Orencia</td>\n",
              "      <td>\"Limited improvement after 4 months, developed...</td>\n",
              "      <td>35</td>\n",
              "      <td>8.205393</td>\n",
              "    </tr>\n",
              "  </tbody>\n",
              "</table>\n",
              "</div>\n",
              "      <button class=\"colab-df-convert\" onclick=\"convertToInteractive('df-b6219e98-9a0c-4046-b665-740ea70b785d')\"\n",
              "              title=\"Convert this dataframe to an interactive table.\"\n",
              "              style=\"display:none;\">\n",
              "        \n",
              "  <svg xmlns=\"http://www.w3.org/2000/svg\" height=\"24px\"viewBox=\"0 0 24 24\"\n",
              "       width=\"24px\">\n",
              "    <path d=\"M0 0h24v24H0V0z\" fill=\"none\"/>\n",
              "    <path d=\"M18.56 5.44l.94 2.06.94-2.06 2.06-.94-2.06-.94-.94-2.06-.94 2.06-2.06.94zm-11 1L8.5 8.5l.94-2.06 2.06-.94-2.06-.94L8.5 2.5l-.94 2.06-2.06.94zm10 10l.94 2.06.94-2.06 2.06-.94-2.06-.94-.94-2.06-.94 2.06-2.06.94z\"/><path d=\"M17.41 7.96l-1.37-1.37c-.4-.4-.92-.59-1.43-.59-.52 0-1.04.2-1.43.59L10.3 9.45l-7.72 7.72c-.78.78-.78 2.05 0 2.83L4 21.41c.39.39.9.59 1.41.59.51 0 1.02-.2 1.41-.59l7.78-7.78 2.81-2.81c.8-.78.8-2.07 0-2.86zM5.41 20L4 18.59l7.72-7.72 1.47 1.35L5.41 20z\"/>\n",
              "  </svg>\n",
              "      </button>\n",
              "      \n",
              "  <style>\n",
              "    .colab-df-container {\n",
              "      display:flex;\n",
              "      flex-wrap:wrap;\n",
              "      gap: 12px;\n",
              "    }\n",
              "\n",
              "    .colab-df-convert {\n",
              "      background-color: #E8F0FE;\n",
              "      border: none;\n",
              "      border-radius: 50%;\n",
              "      cursor: pointer;\n",
              "      display: none;\n",
              "      fill: #1967D2;\n",
              "      height: 32px;\n",
              "      padding: 0 0 0 0;\n",
              "      width: 32px;\n",
              "    }\n",
              "\n",
              "    .colab-df-convert:hover {\n",
              "      background-color: #E2EBFA;\n",
              "      box-shadow: 0px 1px 2px rgba(60, 64, 67, 0.3), 0px 1px 3px 1px rgba(60, 64, 67, 0.15);\n",
              "      fill: #174EA6;\n",
              "    }\n",
              "\n",
              "    [theme=dark] .colab-df-convert {\n",
              "      background-color: #3B4455;\n",
              "      fill: #D2E3FC;\n",
              "    }\n",
              "\n",
              "    [theme=dark] .colab-df-convert:hover {\n",
              "      background-color: #434B5C;\n",
              "      box-shadow: 0px 1px 3px 1px rgba(0, 0, 0, 0.15);\n",
              "      filter: drop-shadow(0px 1px 2px rgba(0, 0, 0, 0.3));\n",
              "      fill: #FFFFFF;\n",
              "    }\n",
              "  </style>\n",
              "\n",
              "      <script>\n",
              "        const buttonEl =\n",
              "          document.querySelector('#df-b6219e98-9a0c-4046-b665-740ea70b785d button.colab-df-convert');\n",
              "        buttonEl.style.display =\n",
              "          google.colab.kernel.accessAllowed ? 'block' : 'none';\n",
              "\n",
              "        async function convertToInteractive(key) {\n",
              "          const element = document.querySelector('#df-b6219e98-9a0c-4046-b665-740ea70b785d');\n",
              "          const dataTable =\n",
              "            await google.colab.kernel.invokeFunction('convertToInteractive',\n",
              "                                                     [key], {});\n",
              "          if (!dataTable) return;\n",
              "\n",
              "          const docLinkHtml = 'Like what you see? Visit the ' +\n",
              "            '<a target=\"_blank\" href=https://colab.research.google.com/notebooks/data_table.ipynb>data table notebook</a>'\n",
              "            + ' to learn more about interactive tables.';\n",
              "          element.innerHTML = '';\n",
              "          dataTable['output_type'] = 'display_data';\n",
              "          await google.colab.output.renderOutput(dataTable, element);\n",
              "          const docLink = document.createElement('div');\n",
              "          docLink.innerHTML = docLinkHtml;\n",
              "          element.appendChild(docLink);\n",
              "        }\n",
              "      </script>\n",
              "    </div>\n",
              "  </div>\n",
              "  "
            ]
          },
          "metadata": {},
          "execution_count": 146
        }
      ],
      "source": [
        "df.tail()"
      ]
    },
    {
      "cell_type": "code",
      "execution_count": null,
      "metadata": {
        "colab": {
          "base_uri": "https://localhost:8080/",
          "height": 300
        },
        "id": "1BgNe-UFhUAr",
        "outputId": "811d90ce-2d36-41ea-9d1d-05ea6a10a88e"
      },
      "outputs": [
        {
          "output_type": "execute_result",
          "data": {
            "text/plain": [
              "       number_of_times_prescribed    base_score\n",
              "count                32165.000000  32165.000000\n",
              "mean                    27.893207      6.664261\n",
              "std                     35.819035      1.588699\n",
              "min                      0.000000      0.899076\n",
              "25%                      6.000000      6.109307\n",
              "50%                     16.000000      6.788245\n",
              "75%                     36.000000      7.900790\n",
              "max                    771.000000      8.992453"
            ],
            "text/html": [
              "\n",
              "  <div id=\"df-eef5c8cf-08a4-4e88-a805-dcd220bd915f\">\n",
              "    <div class=\"colab-df-container\">\n",
              "      <div>\n",
              "<style scoped>\n",
              "    .dataframe tbody tr th:only-of-type {\n",
              "        vertical-align: middle;\n",
              "    }\n",
              "\n",
              "    .dataframe tbody tr th {\n",
              "        vertical-align: top;\n",
              "    }\n",
              "\n",
              "    .dataframe thead th {\n",
              "        text-align: right;\n",
              "    }\n",
              "</style>\n",
              "<table border=\"1\" class=\"dataframe\">\n",
              "  <thead>\n",
              "    <tr style=\"text-align: right;\">\n",
              "      <th></th>\n",
              "      <th>number_of_times_prescribed</th>\n",
              "      <th>base_score</th>\n",
              "    </tr>\n",
              "  </thead>\n",
              "  <tbody>\n",
              "    <tr>\n",
              "      <th>count</th>\n",
              "      <td>32165.000000</td>\n",
              "      <td>32165.000000</td>\n",
              "    </tr>\n",
              "    <tr>\n",
              "      <th>mean</th>\n",
              "      <td>27.893207</td>\n",
              "      <td>6.664261</td>\n",
              "    </tr>\n",
              "    <tr>\n",
              "      <th>std</th>\n",
              "      <td>35.819035</td>\n",
              "      <td>1.588699</td>\n",
              "    </tr>\n",
              "    <tr>\n",
              "      <th>min</th>\n",
              "      <td>0.000000</td>\n",
              "      <td>0.899076</td>\n",
              "    </tr>\n",
              "    <tr>\n",
              "      <th>25%</th>\n",
              "      <td>6.000000</td>\n",
              "      <td>6.109307</td>\n",
              "    </tr>\n",
              "    <tr>\n",
              "      <th>50%</th>\n",
              "      <td>16.000000</td>\n",
              "      <td>6.788245</td>\n",
              "    </tr>\n",
              "    <tr>\n",
              "      <th>75%</th>\n",
              "      <td>36.000000</td>\n",
              "      <td>7.900790</td>\n",
              "    </tr>\n",
              "    <tr>\n",
              "      <th>max</th>\n",
              "      <td>771.000000</td>\n",
              "      <td>8.992453</td>\n",
              "    </tr>\n",
              "  </tbody>\n",
              "</table>\n",
              "</div>\n",
              "      <button class=\"colab-df-convert\" onclick=\"convertToInteractive('df-eef5c8cf-08a4-4e88-a805-dcd220bd915f')\"\n",
              "              title=\"Convert this dataframe to an interactive table.\"\n",
              "              style=\"display:none;\">\n",
              "        \n",
              "  <svg xmlns=\"http://www.w3.org/2000/svg\" height=\"24px\"viewBox=\"0 0 24 24\"\n",
              "       width=\"24px\">\n",
              "    <path d=\"M0 0h24v24H0V0z\" fill=\"none\"/>\n",
              "    <path d=\"M18.56 5.44l.94 2.06.94-2.06 2.06-.94-2.06-.94-.94-2.06-.94 2.06-2.06.94zm-11 1L8.5 8.5l.94-2.06 2.06-.94-2.06-.94L8.5 2.5l-.94 2.06-2.06.94zm10 10l.94 2.06.94-2.06 2.06-.94-2.06-.94-.94-2.06-.94 2.06-2.06.94z\"/><path d=\"M17.41 7.96l-1.37-1.37c-.4-.4-.92-.59-1.43-.59-.52 0-1.04.2-1.43.59L10.3 9.45l-7.72 7.72c-.78.78-.78 2.05 0 2.83L4 21.41c.39.39.9.59 1.41.59.51 0 1.02-.2 1.41-.59l7.78-7.78 2.81-2.81c.8-.78.8-2.07 0-2.86zM5.41 20L4 18.59l7.72-7.72 1.47 1.35L5.41 20z\"/>\n",
              "  </svg>\n",
              "      </button>\n",
              "      \n",
              "  <style>\n",
              "    .colab-df-container {\n",
              "      display:flex;\n",
              "      flex-wrap:wrap;\n",
              "      gap: 12px;\n",
              "    }\n",
              "\n",
              "    .colab-df-convert {\n",
              "      background-color: #E8F0FE;\n",
              "      border: none;\n",
              "      border-radius: 50%;\n",
              "      cursor: pointer;\n",
              "      display: none;\n",
              "      fill: #1967D2;\n",
              "      height: 32px;\n",
              "      padding: 0 0 0 0;\n",
              "      width: 32px;\n",
              "    }\n",
              "\n",
              "    .colab-df-convert:hover {\n",
              "      background-color: #E2EBFA;\n",
              "      box-shadow: 0px 1px 2px rgba(60, 64, 67, 0.3), 0px 1px 3px 1px rgba(60, 64, 67, 0.15);\n",
              "      fill: #174EA6;\n",
              "    }\n",
              "\n",
              "    [theme=dark] .colab-df-convert {\n",
              "      background-color: #3B4455;\n",
              "      fill: #D2E3FC;\n",
              "    }\n",
              "\n",
              "    [theme=dark] .colab-df-convert:hover {\n",
              "      background-color: #434B5C;\n",
              "      box-shadow: 0px 1px 3px 1px rgba(0, 0, 0, 0.15);\n",
              "      filter: drop-shadow(0px 1px 2px rgba(0, 0, 0, 0.3));\n",
              "      fill: #FFFFFF;\n",
              "    }\n",
              "  </style>\n",
              "\n",
              "      <script>\n",
              "        const buttonEl =\n",
              "          document.querySelector('#df-eef5c8cf-08a4-4e88-a805-dcd220bd915f button.colab-df-convert');\n",
              "        buttonEl.style.display =\n",
              "          google.colab.kernel.accessAllowed ? 'block' : 'none';\n",
              "\n",
              "        async function convertToInteractive(key) {\n",
              "          const element = document.querySelector('#df-eef5c8cf-08a4-4e88-a805-dcd220bd915f');\n",
              "          const dataTable =\n",
              "            await google.colab.kernel.invokeFunction('convertToInteractive',\n",
              "                                                     [key], {});\n",
              "          if (!dataTable) return;\n",
              "\n",
              "          const docLinkHtml = 'Like what you see? Visit the ' +\n",
              "            '<a target=\"_blank\" href=https://colab.research.google.com/notebooks/data_table.ipynb>data table notebook</a>'\n",
              "            + ' to learn more about interactive tables.';\n",
              "          element.innerHTML = '';\n",
              "          dataTable['output_type'] = 'display_data';\n",
              "          await google.colab.output.renderOutput(dataTable, element);\n",
              "          const docLink = document.createElement('div');\n",
              "          docLink.innerHTML = docLinkHtml;\n",
              "          element.appendChild(docLink);\n",
              "        }\n",
              "      </script>\n",
              "    </div>\n",
              "  </div>\n",
              "  "
            ]
          },
          "metadata": {},
          "execution_count": 147
        }
      ],
      "source": [
        "df.describe()"
      ]
    },
    {
      "cell_type": "code",
      "execution_count": null,
      "metadata": {
        "colab": {
          "base_uri": "https://localhost:8080/"
        },
        "id": "Yujw5RmahYYw",
        "outputId": "7bd68d9a-9a43-435f-a670-f377a1d6c0f6"
      },
      "outputs": [
        {
          "output_type": "stream",
          "name": "stdout",
          "text": [
            "<class 'pandas.core.frame.DataFrame'>\n",
            "RangeIndex: 32165 entries, 0 to 32164\n",
            "Data columns (total 4 columns):\n",
            " #   Column                      Non-Null Count  Dtype  \n",
            "---  ------                      --------------  -----  \n",
            " 0   name_of_drug                32165 non-null  object \n",
            " 1   review_by_patient           32165 non-null  object \n",
            " 2   number_of_times_prescribed  32165 non-null  int64  \n",
            " 3   base_score                  32165 non-null  float64\n",
            "dtypes: float64(1), int64(1), object(2)\n",
            "memory usage: 1005.3+ KB\n"
          ]
        }
      ],
      "source": [
        "df.info()"
      ]
    },
    {
      "cell_type": "code",
      "execution_count": null,
      "metadata": {
        "colab": {
          "base_uri": "https://localhost:8080/"
        },
        "id": "oRVj5Ay2hc0-",
        "outputId": "5b592243-78cd-4731-a3e1-416131bf6788"
      },
      "outputs": [
        {
          "output_type": "execute_result",
          "data": {
            "text/plain": [
              "name_of_drug                  0\n",
              "review_by_patient             0\n",
              "number_of_times_prescribed    0\n",
              "base_score                    0\n",
              "dtype: int64"
            ]
          },
          "metadata": {},
          "execution_count": 9
        }
      ],
      "source": [
        "df.isna().sum()"
      ]
    },
    {
      "cell_type": "code",
      "execution_count": null,
      "metadata": {
        "colab": {
          "base_uri": "https://localhost:8080/"
        },
        "id": "IKpiT4bgm-bA",
        "outputId": "6e9dfab1-636e-46af-816f-b6631e6bc60e"
      },
      "outputs": [
        {
          "output_type": "stream",
          "name": "stdout",
          "text": [
            "['Valsartan' 'Guanfacine' 'Lybrel' ... 'Benzamycin' 'Midamor' 'Didrex']\n",
            "['\"It has no side effect, I take it in combination of Bystolic 5 Mg and Fish Oil\"'\n",
            " '\"My son is halfway through his fourth week of Intuniv. We became concerned when he began this last week, when he started taking the highest dose he will be on. For two days, he could hardly get out of bed, was very cranky, and slept for nearly 8 hours on a drive home from school vacation (very unusual for him.) I called his doctor on Monday morning and she said to stick it out a few days. See how he did at school, and with getting up in the morning. The last two days have been problem free. He is MUCH more agreeable than ever. He is less emotional (a good thing), less cranky. He is remembering all the things he should. Overall his behavior is better. \\r\\nWe have tried many different medications and so far this is the most effective.\"'\n",
            " '\"I used to take another oral contraceptive, which had 21 pill cycle, and was very happy- very light periods, max 5 days, no other side effects. But it contained hormone gestodene, which is not available in US, so I switched to Lybrel, because the ingredients are similar. When my other pills ended, I started Lybrel immediately, on my first day of period, as the instructions said. And the period lasted for two weeks. When taking the second pack- same two weeks. And now, with third pack things got even worse- my third period lasted for two weeks and now it&#039;s the end of the third week- I still have daily brown discharge.\\r\\nThe positive side is that I didn&#039;t have any other side effects. The idea of being period free was so tempting... Alas.\"'\n",
            " ...\n",
            " '\"Had panic attacks and social anxiety starting in adolescence. Powered through until postpartum depression after my second child and began having severe mood swings, irritability and panic attacks (dizzy spells, heart racing, fainting, chest pain) even when I wasn&#039;t feeling stress. Started Effexor on 37.5mg and had almost immediate success (within a week). Felt a little hyper and would feel like I was getting a low jolt of electricity through my legs, but otherwise fine. Gained a bit of weight but I think that&#039;s only because I was finally able to eat without stomach pain. Increased to 70mg after two months when panic attacks began again, love this drug! Finally have a normal life.\"'\n",
            " '\"I have been off Prozac for about 4 weeks now...after starting 2 years ago for a terrible depression/sadness/menopause. Wanted to take a Holiday to see what would happen. When on Prozac side effects like decrease sexual drive and slight weight gain, otherwise it put my menopause symptoms in control Decrease my hot flashes, helped my sadness, and gave relief for some mild OCD that I have had for years. Now when I am off the medicine I notice and increase in my OCD behaviors. Not concentrating as well at work. Sexual appetite is still not that great despite a wonderful patient husband (could still just be the menopause). Hot flashes have not really returned and I do not feel overwhelmingly sad. I will start Prozac tomorrow and see if it help with OCD.\"'\n",
            " '\"Limited improvement after 4 months, developed bad rash and MD refused to continue medication.\"']\n",
            "[ 27 192  17  37  43   1  54  39  18  11   4   3  45   9  30  55  94  22\n",
            " 125   6 166  74  35  36   5  31  12  10  46  40  51   7  34 104   0   8\n",
            "  16  13  15  28  24 105 376  14  20  78   2  32 100  41  81  88  19 141\n",
            "  26  69  48  58  60  72  25  33  23 114 173  77  29  80  82  91  68  92\n",
            " 134 129  21  49  70  38  42  62  75  53  56  87  44 112 115 101 165  50\n",
            " 276 172 138  52  79  66 771 136  97  67  65 110  64 232 157 117  85  73\n",
            " 144  76 130  84 107  90  95 139 254  59 140 109 116 133 126 102  47  63\n",
            " 171  83  98 150  71  57 357  89 160  99 264 121 108 196  61 127 120 122\n",
            " 186 148 137 175  93 364 308 159 135 111 152 215  86 168 315 179 146 113\n",
            " 170 176 123 118 309 124 156 181 142 145 174 163  96 235 132 239 128 252\n",
            " 219 207 366 317 149 212 119 214 463 251 199 211 255 177 143 185 103 316\n",
            " 147 169 217 151 205 106 435 220 247 162 257 178 154 180 184 226 286 158\n",
            " 153 476 244 202 190 189 131 225 161 167 263 228 204 198 203 155 282 297\n",
            " 200 238 213 307 259 208 164 556 281 187 292 188 345 335 245 250 293 191\n",
            " 505 246 237 303 195 273 400 343 467 401 342 234 194 372 223 242 344 249\n",
            " 206 243 389 210 287 405 183 266 329 448 201 230 283 289 248 513 236 341\n",
            " 280 356 305 274 182 221 260 233 504 227 197 392 365 346 559]\n",
            "[8.02296894 7.85845814 6.34196947 ... 7.73935182 6.37745897 5.87425334]\n"
          ]
        }
      ],
      "source": [
        "for i in range(df.shape[1]):\n",
        "  print(df.iloc[:,i].unique())"
      ]
    },
    {
      "cell_type": "code",
      "execution_count": null,
      "metadata": {
        "colab": {
          "base_uri": "https://localhost:8080/"
        },
        "id": "O65kyI2tnCpd",
        "outputId": "2de0cae6-4161-462e-e265-67ec4c2cdafe"
      },
      "outputs": [
        {
          "output_type": "stream",
          "name": "stdout",
          "text": [
            "Levonorgestrel                       724\n",
            "Etonogestrel                         628\n",
            "Ethinyl estradiol / norethindrone    547\n",
            "Ethinyl estradiol / norgestimate     425\n",
            "Nexplanon                            397\n",
            "                                    ... \n",
            "Ephedrine / guaifenesin                1\n",
            "Xalkori                                1\n",
            "Methscopolamine                        1\n",
            "Brimonidine / timolol                  1\n",
            "Didrex                                 1\n",
            "Name: name_of_drug, Length: 2220, dtype: int64\n",
            "\"Good\"                                                                                                                                                                                                                                                                                                                                                                                                                                                                                                                                                                                                                                                                                                                                                                                                           8\n",
            "\"I have posted early before about my 1st &amp; 2nd week using Retin A 0.025 cream. My 3rd week was much better than my second week, some of my acne stared to calm down and my face felt less bumpy. During this week I started to use the cream 4 times a week because my cheeks were hurting. My 4th week was the most improvement. I started to use the cream every night again since my face had stop hurting. During the 4th week most of my pimples disappeared and my skin felt smoother, I still had some pimples popping up but not as much. Now my cheeks are pretty smooth with a couple pimples but my cheeks are really red from the scars that were left behind from the pimples. I&#039;m hoping they will slowly fade later. Will keep updating!\"                                                4\n",
            "\"Great!\"                                                                                                                                                                                                                                                                                                                                                                                                                                                                                                                                                                                                                                                                                                                                                                                                         4\n",
            "\"Great\"                                                                                                                                                                                                                                                                                                                                                                                                                                                                                                                                                                                                                                                                                                                                                                                                          4\n",
            "\"Excellent\"                                                                                                                                                                                                                                                                                                                                                                                                                                                                                                                                                                                                                                                                                                                                                                                                      4\n",
            "                                                                                                                                                                                                                                                                                                                                                                                                                                                                                                                                                                                                                                                                                                                                                                                                                ..\n",
            "\"I&#039;ve been experiencing tinnitus since a severe ear infection and infection of my mastoid cell located behind my ear on my skull which resulted in extreme fullness and hearing loss. After getting my ear suctioned because antibiotics weren&#039;t helping and a tube put in I got my hearing back in my left ear but was left with bothersome tinnitus. To the point it was driving me crazy!!! That&#039;s been 7 years now. My family Dr recently prescribed xanex for my anxiety and panic attacks. I take .5 twice a day and I couldn&#039;t believe it all but eliminated 90% of the high pitch in my ear! I still can&#039;t believe it and plan bringing it up at my next appointment. I started researching and so happy I&#039;m not alone with this experience. I can wait to tell my Dr!\"    1\n",
            "\"Found this medication very effective in my withdrawals from both alcohol and weed. It stops my racing thoughts and keeps me calm. However it does somewhat make you zombie like and unable to feel emotions.\"                                                                                                                                                                                                                                                                                                                                                                                                                                                                                                                                                                                                   1\n",
            "\"I try to tell as many friends as possible about the wonders of Nuva ring! It changed my life. I&#039;ve been on it for almost 6 years now and the only side effect I&#039;ve ever had was bigger boobs! (When I go off it they shrink a bit) No pregnancies, I don&#039;t have to take it out during sex, and best of all, I don&#039;t have to remeber to take a pill! I rarely even get my period because I just leave it in for 4 wks and then put a new one in immediately (My doctor says this is perfectly fine- unless you&#039;re trying to concieve soon after you go off bc your cycle will take some time to go back to normal) Please do yourself a favor and try it!\"                                                                                                                              1\n",
            "\"I was diagnosed with asthma &amp; allergies 15 yrs ago. I am now 65. In the beginning b4 Zolair injections, my asthma would act up &amp; I would cough 4 weeks until I had such a sore throat, broken blood vessels around my eyes &amp; was just miserable. \\r\\n\\r\\nAround 7 yrs ago, my Dr recommended I start Zolair injections every 2 wks. What a difference, like nite &amp; day. I don&#039;t have any side effects either. I seldom have asthma flare ups &amp; very little allergy problems. I still use an inhaler morn &amp; nite &amp; carry a rescue inhaler w me, which I seldom use. \\r\\n\\r\\nWhat a life saver Zolair injections has bn. I have my life back.\"                                                                                                                                   1\n",
            "\"Limited improvement after 4 months, developed bad rash and MD refused to continue medication.\"                                                                                                                                                                                                                                                                                                                                                                                                                                                                                                                                                                                                                                                                                                                  1\n",
            "Name: review_by_patient, Length: 30121, dtype: int64\n",
            "2      1270\n",
            "3      1255\n",
            "0      1255\n",
            "4      1237\n",
            "1      1205\n",
            "       ... \n",
            "238       1\n",
            "297       1\n",
            "282       1\n",
            "215       1\n",
            "559       1\n",
            "Name: number_of_times_prescribed, Length: 303, dtype: int64\n",
            "7.170997    292\n",
            "8.745991    281\n",
            "6.493653    281\n",
            "6.173134    260\n",
            "8.074493    258\n",
            "           ... \n",
            "8.530035      1\n",
            "6.505984      1\n",
            "7.770829      1\n",
            "8.592949      1\n",
            "5.874253      1\n",
            "Name: base_score, Length: 1383, dtype: int64\n"
          ]
        }
      ],
      "source": [
        "for i in range(df.shape[1]):\n",
        "  print(df.iloc[:,i].value_counts())"
      ]
    },
    {
      "cell_type": "code",
      "execution_count": null,
      "metadata": {
        "colab": {
          "base_uri": "https://localhost:8080/"
        },
        "id": "YqijBj_RnPlg",
        "outputId": "34eac0ac-0634-4afc-cec1-2af11e797ed6"
      },
      "outputs": [
        {
          "output_type": "execute_result",
          "data": {
            "text/plain": [
              "Index(['name_of_drug', 'review_by_patient', 'number_of_times_prescribed',\n",
              "       'base_score'],\n",
              "      dtype='object')"
            ]
          },
          "metadata": {},
          "execution_count": 12
        }
      ],
      "source": [
        "df.columns"
      ]
    },
    {
      "cell_type": "code",
      "execution_count": null,
      "metadata": {
        "colab": {
          "base_uri": "https://localhost:8080/"
        },
        "id": "O7oRHi_unRE9",
        "outputId": "bf463b5a-c4fa-449d-ee6d-0e0eb8067418"
      },
      "outputs": [
        {
          "output_type": "execute_result",
          "data": {
            "text/plain": [
              "7.170997    292\n",
              "8.745991    281\n",
              "6.493653    281\n",
              "6.173134    260\n",
              "8.074493    258\n",
              "           ... \n",
              "8.530035      1\n",
              "6.505984      1\n",
              "7.770829      1\n",
              "8.592949      1\n",
              "5.874253      1\n",
              "Name: base_score, Length: 1383, dtype: int64"
            ]
          },
          "metadata": {},
          "execution_count": 13
        }
      ],
      "source": [
        "df['base_score'].value_counts()"
      ]
    },
    {
      "cell_type": "markdown",
      "metadata": {
        "id": "ebesunWIklGX"
      },
      "source": [
        "#DATA PREPROCESSING"
      ]
    },
    {
      "cell_type": "code",
      "source": [
        "def clean_text1(text):\n",
        "    text=text.lower()\n",
        "    text=re.sub('\\[.*?\\]','',text)\n",
        "    text=re.sub('[%s]'%re.escape(string.punctuation),'',text)\n",
        "    text=re.sub('\\w*\\d\\w*','',text)\n",
        "    return text\n",
        "\n",
        "cleaned1=lambda x:clean_text1(x)"
      ],
      "metadata": {
        "id": "lATcyV2VCsVB"
      },
      "execution_count": null,
      "outputs": []
    },
    {
      "cell_type": "code",
      "source": [
        "df['review_by_patient']=pd.DataFrame(df.review_by_patient.apply(cleaned1))"
      ],
      "metadata": {
        "id": "q6c1THbZbzEq"
      },
      "execution_count": null,
      "outputs": []
    },
    {
      "cell_type": "code",
      "source": [
        "from nltk.tokenize.toktok import ToktokTokenizer\n",
        "\n",
        "#Tokenization of text\n",
        "tokenizer=ToktokTokenizer()\n",
        "#Setting English stopwords\n",
        "stopword_list=nltk.corpus.stopwords.words('english')"
      ],
      "metadata": {
        "id": "VvtvfjQCbypW"
      },
      "execution_count": null,
      "outputs": []
    },
    {
      "cell_type": "code",
      "source": [
        "from bs4 import BeautifulSoup\n",
        "\n",
        "#Removing the html strips\n",
        "def strip_html(text):\n",
        "    soup = BeautifulSoup(text, \"html.parser\")\n",
        "    return soup.get_text()"
      ],
      "metadata": {
        "id": "SSUc11qcbylN"
      },
      "execution_count": null,
      "outputs": []
    },
    {
      "cell_type": "code",
      "source": [
        "import re,string,unicodedata\n",
        "\n",
        "#Removing the square brackets\n",
        "def remove_between_square_brackets(text):\n",
        "    return re.sub('\\[[^]]*\\]', '', text)"
      ],
      "metadata": {
        "id": "dF59AKOXbyhI"
      },
      "execution_count": null,
      "outputs": []
    },
    {
      "cell_type": "code",
      "source": [
        "#Removing the noisy text\n",
        "def denoise_text(text):\n",
        "    text = strip_html(text)\n",
        "    text = remove_between_square_brackets(text)\n",
        "    return text"
      ],
      "metadata": {
        "id": "93CiY1HObybz"
      },
      "execution_count": null,
      "outputs": []
    },
    {
      "cell_type": "code",
      "source": [
        "df['review_by_patient']=df['review_by_patient'].apply(denoise_text)"
      ],
      "metadata": {
        "id": "FGf0tV3Lcl9C"
      },
      "execution_count": null,
      "outputs": []
    },
    {
      "cell_type": "code",
      "source": [
        "#Define function for removing special characters\n",
        "def remove_special_characters(text, remove_digits=True):\n",
        "    pattern=r'[^a-zA-z0-9\\s]'\n",
        "    text=re.sub(pattern,'',text)\n",
        "    return text"
      ],
      "metadata": {
        "id": "T9c_AQ2icl3V"
      },
      "execution_count": null,
      "outputs": []
    },
    {
      "cell_type": "code",
      "source": [
        "df['review_by_patient']=df['review_by_patient'].apply(remove_special_characters)"
      ],
      "metadata": {
        "id": "35NbOWY-H85u"
      },
      "execution_count": null,
      "outputs": []
    },
    {
      "cell_type": "code",
      "source": [
        "#Stemming the text\n",
        "def simple_stemmer(text):\n",
        "    ps=nltk.porter.PorterStemmer()\n",
        "    text= ' '.join([ps.stem(word) for word in text.split()])\n",
        "    return text"
      ],
      "metadata": {
        "id": "05a-Azz6H822"
      },
      "execution_count": null,
      "outputs": []
    },
    {
      "cell_type": "code",
      "source": [
        "df['review_by_patient']=df['review_by_patient'].apply(remove_special_characters)"
      ],
      "metadata": {
        "id": "yH3uNesPdFCg"
      },
      "execution_count": null,
      "outputs": []
    },
    {
      "cell_type": "code",
      "source": [
        "from nltk.corpus import stopwords\n",
        "\n",
        "\n",
        "#set stopwords to english\n",
        "stop=set(stopwords.words('english'))\n",
        "print(stop)\n",
        "\n",
        "#removing the stopwords\n",
        "def remove_stopwords(text, is_lower_case=False):\n",
        "    tokens = tokenizer.tokenize(text)\n",
        "    tokens = [token.strip() for token in tokens]\n",
        "    if is_lower_case:\n",
        "        filtered_tokens = [token for token in tokens if token not in stopword_list]\n",
        "    else:\n",
        "        filtered_tokens = [token for token in tokens if token.lower() not in stopword_list]\n",
        "    filtered_text = ' '.join(filtered_tokens)    \n",
        "    return filtered_text"
      ],
      "metadata": {
        "colab": {
          "base_uri": "https://localhost:8080/"
        },
        "id": "OWLWtW_DdE9U",
        "outputId": "56a52f82-4887-49b2-b01e-4f884be08047"
      },
      "execution_count": null,
      "outputs": [
        {
          "output_type": "stream",
          "name": "stdout",
          "text": [
            "{'very', 'as', 'won', \"mustn't\", \"you've\", \"that'll\", 's', 'i', 'out', 'while', 'did', 'him', 'its', 'what', 'being', 'an', 'couldn', \"didn't\", 'whom', 'how', 'few', \"mightn't\", 'through', 'same', 'we', 'our', 'these', 'needn', 'during', 't', 'by', 'down', 'where', 'below', 'too', \"you'd\", 'which', \"wasn't\", 'a', 'such', 'them', \"shan't\", 'ours', 'they', 'has', \"needn't\", 'so', 'he', 'been', \"she's\", 'mightn', 'be', 'here', 'into', 'just', 'll', 'is', \"weren't\", 'my', 'hers', 'wasn', 'more', \"doesn't\", 'who', 'of', 'now', 'no', 'itself', 'o', 'because', 'further', \"couldn't\", 'or', 'yourself', 'when', 'her', 'any', 'other', 'not', 'do', 'to', 'didn', 'y', 'ourselves', 'himself', 'd', \"you'll\", 'shouldn', 'wouldn', 'each', 'own', \"hadn't\", 'their', 'if', 'have', 'before', 'why', \"should've\", 'yours', 'am', 'ain', 'weren', 'from', 'this', 'between', 'ma', 'until', 'don', 'and', 'off', \"shouldn't\", \"haven't\", 'over', 'will', 'myself', 'were', 'his', 'themselves', 'having', 'nor', 'once', 'you', 'up', 'all', 'aren', \"wouldn't\", 'with', 'those', 'most', \"hasn't\", 'hadn', \"you're\", 'only', 'both', 'hasn', 'herself', 'but', 'against', 'after', \"isn't\", 'in', 'theirs', \"it's\", 'doing', 'me', 'had', 'then', 'again', 'does', 'm', \"don't\", 'haven', 'some', 'was', 'above', \"aren't\", 've', 'the', 'under', 'doesn', 'yourselves', 'mustn', 'shan', 'at', 'can', 'about', 'isn', 'your', 'for', 'are', 'on', 'she', 'than', \"won't\", 'there', 'should', 'that', 're', 'it'}\n"
          ]
        }
      ]
    },
    {
      "cell_type": "code",
      "source": [
        "df"
      ],
      "metadata": {
        "colab": {
          "base_uri": "https://localhost:8080/",
          "height": 423
        },
        "id": "J3FZhc9tK_Ok",
        "outputId": "096e5ba4-f95d-4750-d9ab-23e93a59dbbc"
      },
      "execution_count": null,
      "outputs": [
        {
          "output_type": "execute_result",
          "data": {
            "text/plain": [
              "                   name_of_drug  \\\n",
              "0                     Valsartan   \n",
              "1                    Guanfacine   \n",
              "2                        Lybrel   \n",
              "3      Buprenorphine / naloxone   \n",
              "4                        Cialis   \n",
              "...                         ...   \n",
              "32160                  Cymbalta   \n",
              "32161                 Nexplanon   \n",
              "32162               Venlafaxine   \n",
              "32163                Fluoxetine   \n",
              "32164                   Orencia   \n",
              "\n",
              "                                       review_by_patient  \\\n",
              "0      it has no side effect i take it in combination...   \n",
              "1      my son is halfway through his fourth week of i...   \n",
              "2      i used to take another oral contraceptive whic...   \n",
              "3      suboxone has completely turned my life around ...   \n",
              "4       day on  started to work with rock hard erecti...   \n",
              "...                                                  ...   \n",
              "32160  i have been taking cymbalta for  months now fi...   \n",
              "32161  i have had the nexplanon since dec   \\r\\r\\ni g...   \n",
              "32162  had panic attacks and social anxiety starting ...   \n",
              "32163  i have been off prozac for about  weeks nowaft...   \n",
              "32164  limited improvement after  months developed ba...   \n",
              "\n",
              "       number_of_times_prescribed  base_score  \n",
              "0                              27    8.022969  \n",
              "1                             192    7.858458  \n",
              "2                              17    6.341969  \n",
              "3                              37    6.590176  \n",
              "4                              43    6.144782  \n",
              "...                           ...         ...  \n",
              "32160                          89    6.963020  \n",
              "32161                           0    0.899076  \n",
              "32162                          25    6.241812  \n",
              "32163                          22    7.940428  \n",
              "32164                          35    8.205393  \n",
              "\n",
              "[32165 rows x 4 columns]"
            ],
            "text/html": [
              "\n",
              "  <div id=\"df-386c8714-97ac-4351-ab96-9e7b7e494d6c\">\n",
              "    <div class=\"colab-df-container\">\n",
              "      <div>\n",
              "<style scoped>\n",
              "    .dataframe tbody tr th:only-of-type {\n",
              "        vertical-align: middle;\n",
              "    }\n",
              "\n",
              "    .dataframe tbody tr th {\n",
              "        vertical-align: top;\n",
              "    }\n",
              "\n",
              "    .dataframe thead th {\n",
              "        text-align: right;\n",
              "    }\n",
              "</style>\n",
              "<table border=\"1\" class=\"dataframe\">\n",
              "  <thead>\n",
              "    <tr style=\"text-align: right;\">\n",
              "      <th></th>\n",
              "      <th>name_of_drug</th>\n",
              "      <th>review_by_patient</th>\n",
              "      <th>number_of_times_prescribed</th>\n",
              "      <th>base_score</th>\n",
              "    </tr>\n",
              "  </thead>\n",
              "  <tbody>\n",
              "    <tr>\n",
              "      <th>0</th>\n",
              "      <td>Valsartan</td>\n",
              "      <td>it has no side effect i take it in combination...</td>\n",
              "      <td>27</td>\n",
              "      <td>8.022969</td>\n",
              "    </tr>\n",
              "    <tr>\n",
              "      <th>1</th>\n",
              "      <td>Guanfacine</td>\n",
              "      <td>my son is halfway through his fourth week of i...</td>\n",
              "      <td>192</td>\n",
              "      <td>7.858458</td>\n",
              "    </tr>\n",
              "    <tr>\n",
              "      <th>2</th>\n",
              "      <td>Lybrel</td>\n",
              "      <td>i used to take another oral contraceptive whic...</td>\n",
              "      <td>17</td>\n",
              "      <td>6.341969</td>\n",
              "    </tr>\n",
              "    <tr>\n",
              "      <th>3</th>\n",
              "      <td>Buprenorphine / naloxone</td>\n",
              "      <td>suboxone has completely turned my life around ...</td>\n",
              "      <td>37</td>\n",
              "      <td>6.590176</td>\n",
              "    </tr>\n",
              "    <tr>\n",
              "      <th>4</th>\n",
              "      <td>Cialis</td>\n",
              "      <td>day on  started to work with rock hard erecti...</td>\n",
              "      <td>43</td>\n",
              "      <td>6.144782</td>\n",
              "    </tr>\n",
              "    <tr>\n",
              "      <th>...</th>\n",
              "      <td>...</td>\n",
              "      <td>...</td>\n",
              "      <td>...</td>\n",
              "      <td>...</td>\n",
              "    </tr>\n",
              "    <tr>\n",
              "      <th>32160</th>\n",
              "      <td>Cymbalta</td>\n",
              "      <td>i have been taking cymbalta for  months now fi...</td>\n",
              "      <td>89</td>\n",
              "      <td>6.963020</td>\n",
              "    </tr>\n",
              "    <tr>\n",
              "      <th>32161</th>\n",
              "      <td>Nexplanon</td>\n",
              "      <td>i have had the nexplanon since dec   \\r\\r\\ni g...</td>\n",
              "      <td>0</td>\n",
              "      <td>0.899076</td>\n",
              "    </tr>\n",
              "    <tr>\n",
              "      <th>32162</th>\n",
              "      <td>Venlafaxine</td>\n",
              "      <td>had panic attacks and social anxiety starting ...</td>\n",
              "      <td>25</td>\n",
              "      <td>6.241812</td>\n",
              "    </tr>\n",
              "    <tr>\n",
              "      <th>32163</th>\n",
              "      <td>Fluoxetine</td>\n",
              "      <td>i have been off prozac for about  weeks nowaft...</td>\n",
              "      <td>22</td>\n",
              "      <td>7.940428</td>\n",
              "    </tr>\n",
              "    <tr>\n",
              "      <th>32164</th>\n",
              "      <td>Orencia</td>\n",
              "      <td>limited improvement after  months developed ba...</td>\n",
              "      <td>35</td>\n",
              "      <td>8.205393</td>\n",
              "    </tr>\n",
              "  </tbody>\n",
              "</table>\n",
              "<p>32165 rows × 4 columns</p>\n",
              "</div>\n",
              "      <button class=\"colab-df-convert\" onclick=\"convertToInteractive('df-386c8714-97ac-4351-ab96-9e7b7e494d6c')\"\n",
              "              title=\"Convert this dataframe to an interactive table.\"\n",
              "              style=\"display:none;\">\n",
              "        \n",
              "  <svg xmlns=\"http://www.w3.org/2000/svg\" height=\"24px\"viewBox=\"0 0 24 24\"\n",
              "       width=\"24px\">\n",
              "    <path d=\"M0 0h24v24H0V0z\" fill=\"none\"/>\n",
              "    <path d=\"M18.56 5.44l.94 2.06.94-2.06 2.06-.94-2.06-.94-.94-2.06-.94 2.06-2.06.94zm-11 1L8.5 8.5l.94-2.06 2.06-.94-2.06-.94L8.5 2.5l-.94 2.06-2.06.94zm10 10l.94 2.06.94-2.06 2.06-.94-2.06-.94-.94-2.06-.94 2.06-2.06.94z\"/><path d=\"M17.41 7.96l-1.37-1.37c-.4-.4-.92-.59-1.43-.59-.52 0-1.04.2-1.43.59L10.3 9.45l-7.72 7.72c-.78.78-.78 2.05 0 2.83L4 21.41c.39.39.9.59 1.41.59.51 0 1.02-.2 1.41-.59l7.78-7.78 2.81-2.81c.8-.78.8-2.07 0-2.86zM5.41 20L4 18.59l7.72-7.72 1.47 1.35L5.41 20z\"/>\n",
              "  </svg>\n",
              "      </button>\n",
              "      \n",
              "  <style>\n",
              "    .colab-df-container {\n",
              "      display:flex;\n",
              "      flex-wrap:wrap;\n",
              "      gap: 12px;\n",
              "    }\n",
              "\n",
              "    .colab-df-convert {\n",
              "      background-color: #E8F0FE;\n",
              "      border: none;\n",
              "      border-radius: 50%;\n",
              "      cursor: pointer;\n",
              "      display: none;\n",
              "      fill: #1967D2;\n",
              "      height: 32px;\n",
              "      padding: 0 0 0 0;\n",
              "      width: 32px;\n",
              "    }\n",
              "\n",
              "    .colab-df-convert:hover {\n",
              "      background-color: #E2EBFA;\n",
              "      box-shadow: 0px 1px 2px rgba(60, 64, 67, 0.3), 0px 1px 3px 1px rgba(60, 64, 67, 0.15);\n",
              "      fill: #174EA6;\n",
              "    }\n",
              "\n",
              "    [theme=dark] .colab-df-convert {\n",
              "      background-color: #3B4455;\n",
              "      fill: #D2E3FC;\n",
              "    }\n",
              "\n",
              "    [theme=dark] .colab-df-convert:hover {\n",
              "      background-color: #434B5C;\n",
              "      box-shadow: 0px 1px 3px 1px rgba(0, 0, 0, 0.15);\n",
              "      filter: drop-shadow(0px 1px 2px rgba(0, 0, 0, 0.3));\n",
              "      fill: #FFFFFF;\n",
              "    }\n",
              "  </style>\n",
              "\n",
              "      <script>\n",
              "        const buttonEl =\n",
              "          document.querySelector('#df-386c8714-97ac-4351-ab96-9e7b7e494d6c button.colab-df-convert');\n",
              "        buttonEl.style.display =\n",
              "          google.colab.kernel.accessAllowed ? 'block' : 'none';\n",
              "\n",
              "        async function convertToInteractive(key) {\n",
              "          const element = document.querySelector('#df-386c8714-97ac-4351-ab96-9e7b7e494d6c');\n",
              "          const dataTable =\n",
              "            await google.colab.kernel.invokeFunction('convertToInteractive',\n",
              "                                                     [key], {});\n",
              "          if (!dataTable) return;\n",
              "\n",
              "          const docLinkHtml = 'Like what you see? Visit the ' +\n",
              "            '<a target=\"_blank\" href=https://colab.research.google.com/notebooks/data_table.ipynb>data table notebook</a>'\n",
              "            + ' to learn more about interactive tables.';\n",
              "          element.innerHTML = '';\n",
              "          dataTable['output_type'] = 'display_data';\n",
              "          await google.colab.output.renderOutput(dataTable, element);\n",
              "          const docLink = document.createElement('div');\n",
              "          docLink.innerHTML = docLinkHtml;\n",
              "          element.appendChild(docLink);\n",
              "        }\n",
              "      </script>\n",
              "    </div>\n",
              "  </div>\n",
              "  "
            ]
          },
          "metadata": {},
          "execution_count": 27
        }
      ]
    },
    {
      "cell_type": "code",
      "source": [
        "df['review_by_patient']=df['review_by_patient'].apply(remove_stopwords)"
      ],
      "metadata": {
        "id": "_VXsbI4ddE1H"
      },
      "execution_count": null,
      "outputs": []
    },
    {
      "cell_type": "code",
      "source": [
        "from nltk.stem import WordNetLemmatizer,SnowballStemmer\n",
        "\n",
        "def simple_stemmer(text):\n",
        "    ps = SnowballStemmer(language='english')\n",
        "    return ' '.join([ps.stem(word) for word in tokenizer.tokenize(text)])"
      ],
      "metadata": {
        "id": "tpzte2jIbySj"
      },
      "execution_count": null,
      "outputs": []
    },
    {
      "cell_type": "code",
      "source": [
        "df['review_by_patient'][0]"
      ],
      "metadata": {
        "colab": {
          "base_uri": "https://localhost:8080/",
          "height": 36
        },
        "id": "t8rOosiAda8n",
        "outputId": "fd8dd5a4-9f90-4a71-ef78-ff68c7854a85"
      },
      "execution_count": null,
      "outputs": [
        {
          "output_type": "execute_result",
          "data": {
            "text/plain": [
              "'side effect take combination bystolic mg fish oil'"
            ],
            "application/vnd.google.colaboratory.intrinsic+json": {
              "type": "string"
            }
          },
          "metadata": {},
          "execution_count": 30
        }
      ]
    },
    {
      "cell_type": "code",
      "source": [
        "df"
      ],
      "metadata": {
        "colab": {
          "base_uri": "https://localhost:8080/",
          "height": 423
        },
        "id": "4EbvL0mVXu63",
        "outputId": "ba55662d-bd3a-4e18-b4eb-88b78dcb7d46"
      },
      "execution_count": null,
      "outputs": [
        {
          "output_type": "execute_result",
          "data": {
            "text/plain": [
              "                   name_of_drug  \\\n",
              "0                     Valsartan   \n",
              "1                    Guanfacine   \n",
              "2                        Lybrel   \n",
              "3      Buprenorphine / naloxone   \n",
              "4                        Cialis   \n",
              "...                         ...   \n",
              "32160                  Cymbalta   \n",
              "32161                 Nexplanon   \n",
              "32162               Venlafaxine   \n",
              "32163                Fluoxetine   \n",
              "32164                   Orencia   \n",
              "\n",
              "                                       review_by_patient  \\\n",
              "0      side effect take combination bystolic mg fish oil   \n",
              "1      son halfway fourth week intuniv became concern...   \n",
              "2      used take another oral contraceptive pill cycl...   \n",
              "3      suboxone completely turned life around feel he...   \n",
              "4      day started work rock hard erections however e...   \n",
              "...                                                  ...   \n",
              "32160  taking cymbalta months first six months later ...   \n",
              "32161  nexplanon since dec got first period end janua...   \n",
              "32162  panic attacks social anxiety starting adolesce...   \n",
              "32163  prozac weeks nowafter starting years ago terri...   \n",
              "32164  limited improvement months developed bad rash ...   \n",
              "\n",
              "       number_of_times_prescribed  base_score  \n",
              "0                              27    8.022969  \n",
              "1                             192    7.858458  \n",
              "2                              17    6.341969  \n",
              "3                              37    6.590176  \n",
              "4                              43    6.144782  \n",
              "...                           ...         ...  \n",
              "32160                          89    6.963020  \n",
              "32161                           0    0.899076  \n",
              "32162                          25    6.241812  \n",
              "32163                          22    7.940428  \n",
              "32164                          35    8.205393  \n",
              "\n",
              "[32165 rows x 4 columns]"
            ],
            "text/html": [
              "\n",
              "  <div id=\"df-560adec9-dd89-4fa8-9e9e-cc5718148b58\">\n",
              "    <div class=\"colab-df-container\">\n",
              "      <div>\n",
              "<style scoped>\n",
              "    .dataframe tbody tr th:only-of-type {\n",
              "        vertical-align: middle;\n",
              "    }\n",
              "\n",
              "    .dataframe tbody tr th {\n",
              "        vertical-align: top;\n",
              "    }\n",
              "\n",
              "    .dataframe thead th {\n",
              "        text-align: right;\n",
              "    }\n",
              "</style>\n",
              "<table border=\"1\" class=\"dataframe\">\n",
              "  <thead>\n",
              "    <tr style=\"text-align: right;\">\n",
              "      <th></th>\n",
              "      <th>name_of_drug</th>\n",
              "      <th>review_by_patient</th>\n",
              "      <th>number_of_times_prescribed</th>\n",
              "      <th>base_score</th>\n",
              "    </tr>\n",
              "  </thead>\n",
              "  <tbody>\n",
              "    <tr>\n",
              "      <th>0</th>\n",
              "      <td>Valsartan</td>\n",
              "      <td>side effect take combination bystolic mg fish oil</td>\n",
              "      <td>27</td>\n",
              "      <td>8.022969</td>\n",
              "    </tr>\n",
              "    <tr>\n",
              "      <th>1</th>\n",
              "      <td>Guanfacine</td>\n",
              "      <td>son halfway fourth week intuniv became concern...</td>\n",
              "      <td>192</td>\n",
              "      <td>7.858458</td>\n",
              "    </tr>\n",
              "    <tr>\n",
              "      <th>2</th>\n",
              "      <td>Lybrel</td>\n",
              "      <td>used take another oral contraceptive pill cycl...</td>\n",
              "      <td>17</td>\n",
              "      <td>6.341969</td>\n",
              "    </tr>\n",
              "    <tr>\n",
              "      <th>3</th>\n",
              "      <td>Buprenorphine / naloxone</td>\n",
              "      <td>suboxone completely turned life around feel he...</td>\n",
              "      <td>37</td>\n",
              "      <td>6.590176</td>\n",
              "    </tr>\n",
              "    <tr>\n",
              "      <th>4</th>\n",
              "      <td>Cialis</td>\n",
              "      <td>day started work rock hard erections however e...</td>\n",
              "      <td>43</td>\n",
              "      <td>6.144782</td>\n",
              "    </tr>\n",
              "    <tr>\n",
              "      <th>...</th>\n",
              "      <td>...</td>\n",
              "      <td>...</td>\n",
              "      <td>...</td>\n",
              "      <td>...</td>\n",
              "    </tr>\n",
              "    <tr>\n",
              "      <th>32160</th>\n",
              "      <td>Cymbalta</td>\n",
              "      <td>taking cymbalta months first six months later ...</td>\n",
              "      <td>89</td>\n",
              "      <td>6.963020</td>\n",
              "    </tr>\n",
              "    <tr>\n",
              "      <th>32161</th>\n",
              "      <td>Nexplanon</td>\n",
              "      <td>nexplanon since dec got first period end janua...</td>\n",
              "      <td>0</td>\n",
              "      <td>0.899076</td>\n",
              "    </tr>\n",
              "    <tr>\n",
              "      <th>32162</th>\n",
              "      <td>Venlafaxine</td>\n",
              "      <td>panic attacks social anxiety starting adolesce...</td>\n",
              "      <td>25</td>\n",
              "      <td>6.241812</td>\n",
              "    </tr>\n",
              "    <tr>\n",
              "      <th>32163</th>\n",
              "      <td>Fluoxetine</td>\n",
              "      <td>prozac weeks nowafter starting years ago terri...</td>\n",
              "      <td>22</td>\n",
              "      <td>7.940428</td>\n",
              "    </tr>\n",
              "    <tr>\n",
              "      <th>32164</th>\n",
              "      <td>Orencia</td>\n",
              "      <td>limited improvement months developed bad rash ...</td>\n",
              "      <td>35</td>\n",
              "      <td>8.205393</td>\n",
              "    </tr>\n",
              "  </tbody>\n",
              "</table>\n",
              "<p>32165 rows × 4 columns</p>\n",
              "</div>\n",
              "      <button class=\"colab-df-convert\" onclick=\"convertToInteractive('df-560adec9-dd89-4fa8-9e9e-cc5718148b58')\"\n",
              "              title=\"Convert this dataframe to an interactive table.\"\n",
              "              style=\"display:none;\">\n",
              "        \n",
              "  <svg xmlns=\"http://www.w3.org/2000/svg\" height=\"24px\"viewBox=\"0 0 24 24\"\n",
              "       width=\"24px\">\n",
              "    <path d=\"M0 0h24v24H0V0z\" fill=\"none\"/>\n",
              "    <path d=\"M18.56 5.44l.94 2.06.94-2.06 2.06-.94-2.06-.94-.94-2.06-.94 2.06-2.06.94zm-11 1L8.5 8.5l.94-2.06 2.06-.94-2.06-.94L8.5 2.5l-.94 2.06-2.06.94zm10 10l.94 2.06.94-2.06 2.06-.94-2.06-.94-.94-2.06-.94 2.06-2.06.94z\"/><path d=\"M17.41 7.96l-1.37-1.37c-.4-.4-.92-.59-1.43-.59-.52 0-1.04.2-1.43.59L10.3 9.45l-7.72 7.72c-.78.78-.78 2.05 0 2.83L4 21.41c.39.39.9.59 1.41.59.51 0 1.02-.2 1.41-.59l7.78-7.78 2.81-2.81c.8-.78.8-2.07 0-2.86zM5.41 20L4 18.59l7.72-7.72 1.47 1.35L5.41 20z\"/>\n",
              "  </svg>\n",
              "      </button>\n",
              "      \n",
              "  <style>\n",
              "    .colab-df-container {\n",
              "      display:flex;\n",
              "      flex-wrap:wrap;\n",
              "      gap: 12px;\n",
              "    }\n",
              "\n",
              "    .colab-df-convert {\n",
              "      background-color: #E8F0FE;\n",
              "      border: none;\n",
              "      border-radius: 50%;\n",
              "      cursor: pointer;\n",
              "      display: none;\n",
              "      fill: #1967D2;\n",
              "      height: 32px;\n",
              "      padding: 0 0 0 0;\n",
              "      width: 32px;\n",
              "    }\n",
              "\n",
              "    .colab-df-convert:hover {\n",
              "      background-color: #E2EBFA;\n",
              "      box-shadow: 0px 1px 2px rgba(60, 64, 67, 0.3), 0px 1px 3px 1px rgba(60, 64, 67, 0.15);\n",
              "      fill: #174EA6;\n",
              "    }\n",
              "\n",
              "    [theme=dark] .colab-df-convert {\n",
              "      background-color: #3B4455;\n",
              "      fill: #D2E3FC;\n",
              "    }\n",
              "\n",
              "    [theme=dark] .colab-df-convert:hover {\n",
              "      background-color: #434B5C;\n",
              "      box-shadow: 0px 1px 3px 1px rgba(0, 0, 0, 0.15);\n",
              "      filter: drop-shadow(0px 1px 2px rgba(0, 0, 0, 0.3));\n",
              "      fill: #FFFFFF;\n",
              "    }\n",
              "  </style>\n",
              "\n",
              "      <script>\n",
              "        const buttonEl =\n",
              "          document.querySelector('#df-560adec9-dd89-4fa8-9e9e-cc5718148b58 button.colab-df-convert');\n",
              "        buttonEl.style.display =\n",
              "          google.colab.kernel.accessAllowed ? 'block' : 'none';\n",
              "\n",
              "        async function convertToInteractive(key) {\n",
              "          const element = document.querySelector('#df-560adec9-dd89-4fa8-9e9e-cc5718148b58');\n",
              "          const dataTable =\n",
              "            await google.colab.kernel.invokeFunction('convertToInteractive',\n",
              "                                                     [key], {});\n",
              "          if (!dataTable) return;\n",
              "\n",
              "          const docLinkHtml = 'Like what you see? Visit the ' +\n",
              "            '<a target=\"_blank\" href=https://colab.research.google.com/notebooks/data_table.ipynb>data table notebook</a>'\n",
              "            + ' to learn more about interactive tables.';\n",
              "          element.innerHTML = '';\n",
              "          dataTable['output_type'] = 'display_data';\n",
              "          await google.colab.output.renderOutput(dataTable, element);\n",
              "          const docLink = document.createElement('div');\n",
              "          docLink.innerHTML = docLinkHtml;\n",
              "          element.appendChild(docLink);\n",
              "        }\n",
              "      </script>\n",
              "    </div>\n",
              "  </div>\n",
              "  "
            ]
          },
          "metadata": {},
          "execution_count": 31
        }
      ]
    },
    {
      "cell_type": "code",
      "source": [
        "from google.colab import drive\n",
        "drive.mount('/content/drive')"
      ],
      "metadata": {
        "colab": {
          "base_uri": "https://localhost:8080/"
        },
        "id": "i4qWJ9yoa-W3",
        "outputId": "b53edd14-d557-4c87-97f6-ff6e5caf25fc"
      },
      "execution_count": null,
      "outputs": [
        {
          "output_type": "stream",
          "name": "stdout",
          "text": [
            "Drive already mounted at /content/drive; to attempt to forcibly remount, call drive.mount(\"/content/drive\", force_remount=True).\n"
          ]
        }
      ]
    },
    {
      "cell_type": "markdown",
      "metadata": {
        "id": "fpt1yydJnw6V"
      },
      "source": [
        "#TFIDF VECTOR"
      ]
    },
    {
      "cell_type": "code",
      "execution_count": null,
      "metadata": {
        "id": "_pjhm-u6vJmB"
      },
      "outputs": [],
      "source": [
        "from sklearn.feature_extraction.text import TfidfVectorizer,TfidfTransformer\n",
        "from sklearn.feature_extraction.text import CountVectorizer, TfidfVectorizer\n",
        "from sklearn.metrics.pairwise import cosine_similarity\n",
        "import spacy\n",
        "\n",
        "nlp = spacy.load(\"en_core_web_sm\")"
      ]
    },
    {
      "cell_type": "code",
      "execution_count": null,
      "metadata": {
        "colab": {
          "base_uri": "https://localhost:8080/"
        },
        "id": "Vj1Td7ntIFeU",
        "outputId": "cdd6c473-f31c-4312-8c0b-68b34612184d"
      },
      "outputs": [
        {
          "output_type": "stream",
          "name": "stdout",
          "text": [
            "\n",
            "\n",
            "With TFIDFVectorizer\n",
            "['acne' 'ago' 'almost' 'also' 'amp' 'anxiety' 'away' 'back' 'bad' 'better'\n",
            " 'birth' 'bleeding' 'control' 'could' 'day' 'days' 'depression' 'doctor'\n",
            " 'dose' 'drug' 'effects' 'even' 'ever' 'every' 'experience' 'far' 'feel'\n",
            " 'feeling' 'felt' 'first' 'gain' 'get' 'getting' 'go' 'going' 'good' 'got'\n",
            " 'great' 'help' 'helped' 'hours' 'know' 'last' 'life' 'like' 'little'\n",
            " 'lot' 'made' 'medication' 'medicine' 'mg' 'month' 'months' 'mood' 'much'\n",
            " 'nausea' 'never' 'night' 'nothing' 'one' 'pain' 'period' 'periods' 'pill'\n",
            " 'prescribed' 'put' 'really' 'severe' 'sex' 'side' 'since' 'skin' 'sleep'\n",
            " 'started' 'still' 'stopped' 'symptoms' 'take' 'taking' 'think' 'time'\n",
            " 'times' 'took' 'tried' 'try' 'two' 'use' 'used' 'using' 'week' 'weeks'\n",
            " 'weight' 'well' 'went' 'work' 'worked' 'works' 'would' 'year' 'years']\n",
            "[[0.         0.         0.         ... 0.         0.         0.        ]\n",
            " [0.         0.         0.         ... 0.         0.         0.        ]\n",
            " [0.         0.         0.         ... 0.         0.         0.        ]\n",
            " ...\n",
            " [0.         0.         0.21777013 ... 0.1778072  0.         0.        ]\n",
            " [0.         0.20105664 0.         ... 0.17093772 0.         0.29961717]\n",
            " [0.         0.         0.         ... 0.         0.         0.        ]]\n",
            "\n",
            "\n",
            "\n",
            "\n",
            "With TFIDFVectorizer and removing stop words\n",
            "['acne' 'ago' 'almost' 'also' 'amp' 'anxiety' 'away' 'back' 'bad' 'better'\n",
            " 'birth' 'bleeding' 'control' 'could' 'day' 'days' 'depression' 'doctor'\n",
            " 'dose' 'drug' 'effects' 'even' 'ever' 'every' 'experience' 'far' 'feel'\n",
            " 'feeling' 'felt' 'first' 'gain' 'get' 'getting' 'go' 'going' 'good' 'got'\n",
            " 'great' 'help' 'helped' 'hours' 'know' 'last' 'life' 'like' 'little'\n",
            " 'lot' 'made' 'medication' 'medicine' 'mg' 'month' 'months' 'mood' 'much'\n",
            " 'nausea' 'never' 'night' 'nothing' 'one' 'pain' 'period' 'periods' 'pill'\n",
            " 'prescribed' 'put' 'really' 'severe' 'sex' 'side' 'since' 'skin' 'sleep'\n",
            " 'started' 'still' 'stopped' 'symptoms' 'take' 'taking' 'think' 'time'\n",
            " 'times' 'took' 'tried' 'try' 'two' 'use' 'used' 'using' 'week' 'weeks'\n",
            " 'weight' 'well' 'went' 'work' 'worked' 'works' 'would' 'year' 'years']\n",
            "[[0.         0.         0.         ... 0.         0.         0.        ]\n",
            " [0.         0.         0.         ... 0.         0.         0.        ]\n",
            " [0.         0.         0.         ... 0.         0.         0.        ]\n",
            " ...\n",
            " [0.         0.         0.21777013 ... 0.1778072  0.         0.        ]\n",
            " [0.         0.20105664 0.         ... 0.17093772 0.         0.29961717]\n",
            " [0.         0.         0.         ... 0.         0.         0.        ]]\n",
            "\n",
            "\n"
          ]
        }
      ],
      "source": [
        "\n",
        "print(\"\\n\\nWith TFIDFVectorizer\")\n",
        "vectorizer = TfidfVectorizer(max_features=100)\n",
        "X = vectorizer.fit_transform(df.review_by_patient)\n",
        "print(vectorizer.get_feature_names_out())\n",
        "print(X.toarray())\n",
        "print(\"\\n\")\n",
        "#print(cosine_similarity(X))\n",
        "\n",
        "\n",
        "print(\"\\n\\nWith TFIDFVectorizer and removing stop words\")\n",
        "vectorizer1 = TfidfVectorizer(stop_words=nlp.Defaults.stop_words,max_features=100)\n",
        "X1 = vectorizer.fit_transform(df.review_by_patient)\n",
        "print(vectorizer.get_feature_names_out())\n",
        "print(X1.toarray())\n",
        "print(\"\\n\")\n",
        "#print(cosine_similarity(X))"
      ]
    },
    {
      "cell_type": "code",
      "source": [
        "#X=df.drop([\"base_score\"], axis=1)\n",
        "y= df['base_score']\n",
        "#X.head"
      ],
      "metadata": {
        "id": "MBAA9kPOfQPt"
      },
      "execution_count": null,
      "outputs": []
    },
    {
      "cell_type": "code",
      "source": [
        "y"
      ],
      "metadata": {
        "colab": {
          "base_uri": "https://localhost:8080/"
        },
        "id": "acuanNtKfphN",
        "outputId": "48cbad11-6dd9-479f-d734-ee15ce348779"
      },
      "execution_count": null,
      "outputs": [
        {
          "output_type": "execute_result",
          "data": {
            "text/plain": [
              "0        8.022969\n",
              "1        7.858458\n",
              "2        6.341969\n",
              "3        6.590176\n",
              "4        6.144782\n",
              "           ...   \n",
              "32160    6.963020\n",
              "32161    0.899076\n",
              "32162    6.241812\n",
              "32163    7.940428\n",
              "32164    8.205393\n",
              "Name: base_score, Length: 32165, dtype: float64"
            ]
          },
          "metadata": {},
          "execution_count": 53
        }
      ]
    },
    {
      "cell_type": "code",
      "source": [
        "X_train, X_test, y_train, y_test = train_test_split(X, y, test_size=0.3, random_state = 42)\n"
      ],
      "metadata": {
        "id": "Hr71QkkbofgC"
      },
      "execution_count": null,
      "outputs": []
    },
    {
      "cell_type": "code",
      "source": [
        "import sklearn\n",
        "sklearn.linear_model.LinearRegression()\n",
        "lr = LinearRegression()\n",
        "lr.fit(X_train, y_train)\n",
        "y_pred = lr.predict(X_test)\n",
        "y_pred\n",
        "from sklearn.metrics import mean_squared_error\n",
        "mean_squared_error(y_test,y_pred)"
      ],
      "metadata": {
        "colab": {
          "base_uri": "https://localhost:8080/"
        },
        "id": "rUldQnc6bbhA",
        "outputId": "49c5b272-6306-4c0c-9a6f-4e32894f6243"
      },
      "execution_count": null,
      "outputs": [
        {
          "output_type": "execute_result",
          "data": {
            "text/plain": [
              "2.4729814169926287"
            ]
          },
          "metadata": {},
          "execution_count": 46
        }
      ]
    },
    {
      "cell_type": "code",
      "source": [
        "from sklearn.tree import DecisionTreeRegressor\n",
        "lr = DecisionTreeRegressor()\n",
        "lr.fit(X_train, y_train)\n",
        "y_pred = lr.predict(X_test)\n",
        "y_pred\n",
        "from sklearn.metrics import mean_squared_error\n",
        "mean_squared_error(y_test,y_pred)"
      ],
      "metadata": {
        "colab": {
          "base_uri": "https://localhost:8080/"
        },
        "id": "85D53IxJcVjb",
        "outputId": "f54f80c9-3825-4f30-b7c0-74b2301bafe4"
      },
      "execution_count": null,
      "outputs": [
        {
          "output_type": "execute_result",
          "data": {
            "text/plain": [
              "4.492479693742085"
            ]
          },
          "metadata": {},
          "execution_count": 47
        }
      ]
    },
    {
      "cell_type": "code",
      "source": [
        "from sklearn.ensemble import BaggingRegressor\n",
        "lr = BaggingRegressor()\n",
        "lr.fit(X_train, y_train)\n",
        "y_pred = lr.predict(X_test)\n",
        "y_pred\n",
        "from sklearn.metrics import mean_squared_error\n",
        "mean_squared_error(y_test,y_pred)"
      ],
      "metadata": {
        "colab": {
          "base_uri": "https://localhost:8080/"
        },
        "id": "h3sfT405ddht",
        "outputId": "7d6eb92a-3c96-454c-acb2-09abfbdbb2b9"
      },
      "execution_count": null,
      "outputs": [
        {
          "output_type": "execute_result",
          "data": {
            "text/plain": [
              "2.5726595623076123"
            ]
          },
          "metadata": {},
          "execution_count": 48
        }
      ]
    },
    {
      "cell_type": "code",
      "source": [
        "from sklearn.ensemble import AdaBoostRegressor\n",
        "from sklearn.tree import DecisionTreeRegressor\n",
        "lr = AdaBoostRegressor()\n",
        "lr.fit(X_train, y_train)\n",
        "y_pred = lr.predict(X_test)\n",
        "y_pred\n",
        "from sklearn.metrics import mean_squared_error\n",
        "mean_squared_error(y_test,y_pred)"
      ],
      "metadata": {
        "colab": {
          "base_uri": "https://localhost:8080/"
        },
        "id": "KxoRA_6TdvBL",
        "outputId": "39bff3a7-26d8-4d90-bbdc-ad89cd7c5403"
      },
      "execution_count": null,
      "outputs": [
        {
          "output_type": "execute_result",
          "data": {
            "text/plain": [
              "2.9738764371558712"
            ]
          },
          "metadata": {},
          "execution_count": 49
        }
      ]
    },
    {
      "cell_type": "code",
      "source": [
        "from sklearn.ensemble import GradientBoostingRegressor\n",
        "lr = GradientBoostingRegressor()\n",
        "lr.fit(X_train, y_train)\n",
        "y_pred = lr.predict(X_test)\n",
        "y_pred\n",
        "from sklearn.metrics import mean_squared_error\n",
        "mean_squared_error(y_test,y_pred)"
      ],
      "metadata": {
        "colab": {
          "base_uri": "https://localhost:8080/"
        },
        "id": "9TCwDC0ReDFy",
        "outputId": "49473984-dab5-4c65-cd42-e213b626cd3e"
      },
      "execution_count": null,
      "outputs": [
        {
          "output_type": "execute_result",
          "data": {
            "text/plain": [
              "2.4817357555721924"
            ]
          },
          "metadata": {},
          "execution_count": 50
        }
      ]
    },
    {
      "cell_type": "code",
      "source": [
        "import xgboost as xgb\n",
        "from xgboost import XGBRegressor\n",
        "lr = XGBRegressor()\n",
        "lr.fit(X_train, y_train)\n",
        "y_pred = lr.predict(X_test)\n",
        "y_pred\n",
        "from sklearn.metrics import mean_squared_error\n",
        "mean_squared_error(y_test,y_pred)"
      ],
      "metadata": {
        "colab": {
          "base_uri": "https://localhost:8080/"
        },
        "id": "2XddYs1dePeW",
        "outputId": "3fba2af9-1c5d-466c-ae26-9ccd8fc508f8"
      },
      "execution_count": null,
      "outputs": [
        {
          "output_type": "execute_result",
          "data": {
            "text/plain": [
              "2.524052123567576"
            ]
          },
          "metadata": {},
          "execution_count": 182
        }
      ]
    },
    {
      "cell_type": "code",
      "source": [
        "import pandas as pd\n",
        "from sklearn.feature_extraction.text import TfidfVectorizer \n",
        "from sklearn import svm \n",
        "from sklearn.metrics import mean_absolute_error, mean_squared_error, r2_score \n",
        "from sklearn.model_selection import train_test_split "
      ],
      "metadata": {
        "id": "b9UIuuijHjzI"
      },
      "execution_count": null,
      "outputs": []
    },
    {
      "cell_type": "code",
      "source": [
        "model = svm.SVR(kernel='linear') \n",
        "model.fit(X_train, y_train)  \n",
        "# Predict the target for test data \n",
        "y_pred = model.predict(X_test)  \n",
        "# Calculate the performance metrics of the model \n",
        "mae = mean_absolute_error(y_test, y_pred)  \n",
        "print(\"MAE: \", mae)"
      ],
      "metadata": {
        "colab": {
          "base_uri": "https://localhost:8080/"
        },
        "id": "WM8fkiNCHgB3",
        "outputId": "82d592ea-5568-498c-af8b-8fd1d47e6de6"
      },
      "execution_count": null,
      "outputs": [
        {
          "output_type": "stream",
          "name": "stdout",
          "text": [
            "MAE:  1.197033930097109\n"
          ]
        }
      ]
    },
    {
      "cell_type": "markdown",
      "metadata": {
        "id": "h2vjxdVhn5Re"
      },
      "source": [
        "#WORD2VEC VECTOR"
      ]
    },
    {
      "cell_type": "code",
      "source": [
        "from gensim.models import Word2Vec"
      ],
      "metadata": {
        "id": "FCBuWx0QjROC"
      },
      "execution_count": null,
      "outputs": []
    },
    {
      "cell_type": "code",
      "source": [
        "sentences = [review.split() for review in df['review_by_patient']]\n",
        "model = Word2Vec(sentences, size=100, window=5, min_count=1, workers=4)\n",
        "model.save('word2vec.model')"
      ],
      "metadata": {
        "id": "iFKkaRBojSv4"
      },
      "execution_count": null,
      "outputs": []
    },
    {
      "cell_type": "code",
      "source": [
        "# Convert each word to vector and represent the sentence in vector form using the word embeddings\n",
        "def sentence_vector(sentence,model):\n",
        "    words = sentence.split()\n",
        "    word_vectors = [model.wv[word] for word in words if word in model.wv.vocab]\n",
        "    if len(word_vectors) == 0:\n",
        "        return np.zeros((100,))\n",
        "    return np.mean(word_vectors, axis=0)"
      ],
      "metadata": {
        "id": "AE-NPxSjjSqM"
      },
      "execution_count": null,
      "outputs": []
    },
    {
      "cell_type": "code",
      "source": [
        "# Convert each sentence in the dataset to a vector using the Word2Vec model\n",
        "word2vec_data = np.array([sentence_vector(sentence, model) for sentence in df['review_by_patient']])\n",
        "X_train, X_test, y_train, y_test = train_test_split(word2vec_data, y, test_size=0.3, random_state = 42)"
      ],
      "metadata": {
        "id": "hu4qtearjSlk"
      },
      "execution_count": null,
      "outputs": []
    },
    {
      "cell_type": "code",
      "source": [
        "import sklearn\n",
        "sklearn.linear_model.LinearRegression()\n",
        "lr = LinearRegression()\n",
        "lr.fit(X_train, y_train)\n",
        "y_pred = lr.predict(X_test)\n",
        "y_pred\n",
        "from sklearn.metrics import mean_squared_error\n",
        "mean_squared_error(y_test,y_pred)"
      ],
      "metadata": {
        "colab": {
          "base_uri": "https://localhost:8080/"
        },
        "id": "RHs8BWLXcOai",
        "outputId": "b6c234ea-9925-4e9d-badf-cc72b46b3eef"
      },
      "execution_count": null,
      "outputs": [
        {
          "output_type": "execute_result",
          "data": {
            "text/plain": [
              "2.406469466826245"
            ]
          },
          "metadata": {},
          "execution_count": 82
        }
      ]
    },
    {
      "cell_type": "code",
      "source": [
        "from sklearn.tree import DecisionTreeRegressor\n",
        "lr = DecisionTreeRegressor()\n",
        "lr.fit(X_train, y_train)\n",
        "y_pred = lr.predict(X_test)\n",
        "y_pred\n",
        "from sklearn.metrics import mean_squared_error\n",
        "mean_squared_error(y_test,y_pred)"
      ],
      "metadata": {
        "colab": {
          "base_uri": "https://localhost:8080/"
        },
        "id": "9vbt9tevc0YG",
        "outputId": "9686b406-be9c-47bf-f4fc-205d793e31cb"
      },
      "execution_count": null,
      "outputs": [
        {
          "output_type": "execute_result",
          "data": {
            "text/plain": [
              "4.420596100946152"
            ]
          },
          "metadata": {},
          "execution_count": 83
        }
      ]
    },
    {
      "cell_type": "code",
      "source": [
        "from sklearn.ensemble import BaggingRegressor\n",
        "lr = BaggingRegressor()\n",
        "lr.fit(X_train, y_train)\n",
        "y_pred = lr.predict(X_test)\n",
        "y_pred\n",
        "from sklearn.metrics import mean_squared_error\n",
        "mean_squared_error(y_test,y_pred)"
      ],
      "metadata": {
        "colab": {
          "base_uri": "https://localhost:8080/"
        },
        "id": "n46WPkNTdoRd",
        "outputId": "d56f40fb-b82e-4842-dd1b-5305fa9b8563"
      },
      "execution_count": null,
      "outputs": [
        {
          "output_type": "execute_result",
          "data": {
            "text/plain": [
              "2.4893722151667492"
            ]
          },
          "metadata": {},
          "execution_count": 84
        }
      ]
    },
    {
      "cell_type": "code",
      "source": [
        "from sklearn.ensemble import AdaBoostRegressor\n",
        "from sklearn.tree import DecisionTreeRegressor\n",
        "lr = AdaBoostRegressor()\n",
        "lr.fit(X_train, y_train)\n",
        "y_pred = lr.predict(X_test)\n",
        "y_pred\n",
        "from sklearn.metrics import mean_squared_error\n",
        "mean_squared_error(y_test,y_pred)"
      ],
      "metadata": {
        "colab": {
          "base_uri": "https://localhost:8080/"
        },
        "id": "5aQJaAWSd6Im",
        "outputId": "86aa9373-61f9-46f2-a25a-5765901e0ac1"
      },
      "execution_count": null,
      "outputs": [
        {
          "output_type": "execute_result",
          "data": {
            "text/plain": [
              "2.6031039207141684"
            ]
          },
          "metadata": {},
          "execution_count": 85
        }
      ]
    },
    {
      "cell_type": "code",
      "source": [
        "from sklearn.ensemble import GradientBoostingRegressor\n",
        "lr = GradientBoostingRegressor()\n",
        "lr.fit(X_train, y_train)\n",
        "y_pred = lr.predict(X_test)\n",
        "y_pred\n",
        "from sklearn.metrics import mean_squared_error\n",
        "mean_squared_error(y_test,y_pred)"
      ],
      "metadata": {
        "colab": {
          "base_uri": "https://localhost:8080/"
        },
        "id": "icIUwSxoeKyt",
        "outputId": "4136e15c-a80a-4b4d-a717-8cedc7743e03"
      },
      "execution_count": null,
      "outputs": [
        {
          "output_type": "execute_result",
          "data": {
            "text/plain": [
              "2.412376046395421"
            ]
          },
          "metadata": {},
          "execution_count": 86
        }
      ]
    },
    {
      "cell_type": "code",
      "source": [
        "import xgboost as xgb\n",
        "from xgboost import XGBRegressor\n",
        "lr = XGBRegressor()\n",
        "lr.fit(X_train, y_train)\n",
        "y_pred = lr.predict(X_test)\n",
        "y_pred\n",
        "from sklearn.metrics import mean_squared_error\n",
        "mean_squared_error(y_test,y_pred)"
      ],
      "metadata": {
        "colab": {
          "base_uri": "https://localhost:8080/"
        },
        "id": "_Pb7pgtHeVmH",
        "outputId": "2d5606f8-0edf-4426-d397-4a972ae3fb44"
      },
      "execution_count": null,
      "outputs": [
        {
          "output_type": "execute_result",
          "data": {
            "text/plain": [
              "2.5128017291404166"
            ]
          },
          "metadata": {},
          "execution_count": 87
        }
      ]
    },
    {
      "cell_type": "code",
      "source": [
        "import pandas as pd\n",
        "from sklearn.feature_extraction.text import TfidfVectorizer \n",
        "from sklearn import svm \n",
        "from sklearn.metrics import mean_absolute_error, mean_squared_error, r2_score \n",
        "from sklearn.model_selection import train_test_split "
      ],
      "metadata": {
        "id": "B4RKoLmNG4bX"
      },
      "execution_count": null,
      "outputs": []
    },
    {
      "cell_type": "code",
      "source": [
        "model = svm.SVR(kernel='linear') \n",
        "model.fit(X_train, y_train)  \n",
        "# Predict the target for test data \n",
        "y_pred = model.predict(X_test)  \n",
        "# Calculate the performance metrics of the model \n",
        "mae = mean_absolute_error(y_test, y_pred)  \n",
        "print(\"MAE: \", mae)"
      ],
      "metadata": {
        "colab": {
          "base_uri": "https://localhost:8080/"
        },
        "id": "0c--yD5tG0JF",
        "outputId": "82b2529f-0772-4fca-dd65-ca07457d887c"
      },
      "execution_count": null,
      "outputs": [
        {
          "output_type": "stream",
          "name": "stdout",
          "text": [
            "MAE:  1.1981659289913325\n"
          ]
        }
      ]
    },
    {
      "cell_type": "markdown",
      "metadata": {
        "id": "dzm5QYN1n9U5"
      },
      "source": [
        "#COMBINING TFIDF VECTOR AND WORD2VEC VECTOR"
      ]
    },
    {
      "cell_type": "code",
      "source": [
        "from gensim.models import Word2Vec"
      ],
      "metadata": {
        "id": "TggMJzFIM6pC"
      },
      "execution_count": null,
      "outputs": []
    },
    {
      "cell_type": "code",
      "source": [
        "from gensim.models import Word2Vec\n",
        "\n",
        "\n",
        "model = Word2Vec.load('word2vec.model')\n",
        "\n",
        "# Define a function to generate sentence vectors\n",
        "def sentence_vector(sentence, model):\n",
        "    words = sentence.split()\n",
        "    word_vectors = [model.wv[word] for word in words if word in model.wv.vocab]\n",
        "    if len(word_vectors) == 0:\n",
        "        return np.zeros((100,))\n",
        "    else:\n",
        "        return np.mean(word_vectors, axis=0)\n",
        "\n",
        "# Define a function to combine the sentence vectors\n",
        "def combine_vectors(doc):\n",
        "    vectors = [sentence_vector(sent, model) for sent in doc.split('.') if sent != '']\n",
        "    if len(vectors) == 0:\n",
        "        return np.zeros((100,))\n",
        "    else:\n",
        "        return np.mean(vectors, axis=0)\n",
        "\n",
        "# Combine the sentence vectors for each document in the dataset\n",
        "comb_train = np.array([combine_vectors(doc) for doc in df['review_by_patient']])\n",
        "comb_test = np.array(y)"
      ],
      "metadata": {
        "id": "aJ12-60dU-NI"
      },
      "execution_count": null,
      "outputs": []
    },
    {
      "cell_type": "code",
      "source": [
        "import sklearn\n",
        "sklearn.linear_model.LinearRegression()\n",
        "lr = LinearRegression()\n",
        "lr.fit(X_train, y_train)\n",
        "y_pred = lr.predict(X_test)\n",
        "y_pred\n",
        "from sklearn.metrics import mean_squared_error\n",
        "mean_squared_error(y_test,y_pred)"
      ],
      "metadata": {
        "colab": {
          "base_uri": "https://localhost:8080/"
        },
        "id": "2Wim6E8YcR5x",
        "outputId": "32c4632b-d7d0-49a2-f9a7-d85f667f4866"
      },
      "execution_count": null,
      "outputs": [
        {
          "output_type": "execute_result",
          "data": {
            "text/plain": [
              "2.406469466826245"
            ]
          },
          "metadata": {},
          "execution_count": 108
        }
      ]
    },
    {
      "cell_type": "code",
      "source": [
        "from sklearn.tree import DecisionTreeRegressor\n",
        "lr = DecisionTreeRegressor()\n",
        "lr.fit(X_train, y_train)\n",
        "y_pred = lr.predict(X_test)\n",
        "y_pred\n",
        "from sklearn.metrics import mean_squared_error\n",
        "mean_squared_error(y_test,y_pred)"
      ],
      "metadata": {
        "colab": {
          "base_uri": "https://localhost:8080/"
        },
        "id": "D2Lmqv8Wc2Ug",
        "outputId": "8a1dd9db-3c1b-4f50-aa54-8b42ad52624f"
      },
      "execution_count": null,
      "outputs": [
        {
          "output_type": "execute_result",
          "data": {
            "text/plain": [
              "4.533991051087833"
            ]
          },
          "metadata": {},
          "execution_count": 109
        }
      ]
    },
    {
      "cell_type": "code",
      "source": [
        "from sklearn.ensemble import BaggingRegressor\n",
        "lr = BaggingRegressor()\n",
        "lr.fit(X_train, y_train)\n",
        "y_pred = lr.predict(X_test)\n",
        "y_pred\n",
        "from sklearn.metrics import mean_squared_error\n",
        "mean_squared_error(y_test,y_pred)"
      ],
      "metadata": {
        "colab": {
          "base_uri": "https://localhost:8080/"
        },
        "id": "JoReXddJdqJ_",
        "outputId": "0cd881dc-97c2-4709-b527-9a8da7a767ee"
      },
      "execution_count": null,
      "outputs": [
        {
          "output_type": "execute_result",
          "data": {
            "text/plain": [
              "2.5274734705181165"
            ]
          },
          "metadata": {},
          "execution_count": 110
        }
      ]
    },
    {
      "cell_type": "code",
      "source": [
        "from sklearn.ensemble import AdaBoostRegressor\n",
        "from sklearn.tree import DecisionTreeRegressor\n",
        "lr = AdaBoostRegressor()\n",
        "lr.fit(X_train, y_train)\n",
        "y_pred = lr.predict(X_test)\n",
        "y_pred\n",
        "from sklearn.metrics import mean_squared_error\n",
        "mean_squared_error(y_test,y_pred)"
      ],
      "metadata": {
        "colab": {
          "base_uri": "https://localhost:8080/"
        },
        "id": "elH3903Zd7Oc",
        "outputId": "c7cde10c-8979-4514-c63d-5d86a41b8c4a"
      },
      "execution_count": null,
      "outputs": [
        {
          "output_type": "execute_result",
          "data": {
            "text/plain": [
              "2.643528782979286"
            ]
          },
          "metadata": {},
          "execution_count": 111
        }
      ]
    },
    {
      "cell_type": "code",
      "source": [
        "from sklearn.ensemble import GradientBoostingRegressor\n",
        "lr = GradientBoostingRegressor()\n",
        "lr.fit(X_train, y_train)\n",
        "y_pred = lr.predict(X_test)\n",
        "y_pred\n",
        "from sklearn.metrics import mean_squared_error\n",
        "mean_squared_error(y_test,y_pred)"
      ],
      "metadata": {
        "colab": {
          "base_uri": "https://localhost:8080/"
        },
        "id": "0lkFeS1beL5m",
        "outputId": "adaca253-5f2f-49da-a1d6-30d528926bf4"
      },
      "execution_count": null,
      "outputs": [
        {
          "output_type": "execute_result",
          "data": {
            "text/plain": [
              "2.412532433889839"
            ]
          },
          "metadata": {},
          "execution_count": 112
        }
      ]
    },
    {
      "cell_type": "code",
      "source": [
        "import xgboost as xgb\n",
        "from xgboost import XGBRegressor\n",
        "lr = XGBRegressor()\n",
        "lr.fit(X_train, y_train)\n",
        "y_pred = lr.predict(X_test)\n",
        "y_pred\n",
        "from sklearn.metrics import mean_squared_error\n",
        "mean_squared_error(y_test,y_pred)"
      ],
      "metadata": {
        "colab": {
          "base_uri": "https://localhost:8080/"
        },
        "id": "GwlPDqS9eWoQ",
        "outputId": "176119a4-2ec8-4452-dd59-a89ac887e81e"
      },
      "execution_count": null,
      "outputs": [
        {
          "output_type": "execute_result",
          "data": {
            "text/plain": [
              "2.5128017291404166"
            ]
          },
          "metadata": {},
          "execution_count": 113
        }
      ]
    },
    {
      "cell_type": "code",
      "source": [
        "import pandas as pd\n",
        "from sklearn.feature_extraction.text import TfidfVectorizer \n",
        "from sklearn import svm \n",
        "from sklearn.metrics import mean_absolute_error, mean_squared_error, r2_score \n",
        "from sklearn.model_selection import train_test_split "
      ],
      "metadata": {
        "id": "XCpap91sWVmu"
      },
      "execution_count": null,
      "outputs": []
    },
    {
      "cell_type": "code",
      "source": [
        "model = svm.SVR(kernel='linear') \n",
        "model.fit(X_train, y_train)  \n",
        "# Predict the target for test data \n",
        "y_pred = model.predict(X_test)  \n",
        "# Calculate the performance metrics of the model \n",
        "mae = mean_absolute_error(y_test, y_pred)  \n",
        "print(\"MAE: \", mae)"
      ],
      "metadata": {
        "colab": {
          "base_uri": "https://localhost:8080/"
        },
        "id": "ujcpYoBdWaPq",
        "outputId": "91216afa-3a37-4d1c-d3d5-e277e78e5551"
      },
      "execution_count": null,
      "outputs": [
        {
          "output_type": "stream",
          "name": "stdout",
          "text": [
            "MAE:  1.1981659289913325\n"
          ]
        }
      ]
    }
  ],
  "metadata": {
    "colab": {
      "provenance": []
    },
    "kernelspec": {
      "display_name": "Python 3",
      "name": "python3"
    },
    "language_info": {
      "name": "python"
    }
  },
  "nbformat": 4,
  "nbformat_minor": 0
}